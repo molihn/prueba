{
 "cells": [
  {
   "cell_type": "markdown",
   "metadata": {},
   "source": [
    "# EPG3345 - Tópicos de Estadística \n",
    "# Nombre Proyecto\n",
    "\n",
    "### Profesor: Simón Leiva\n",
    "### Alumnos:  Madelaine Acosta Donoso - María Olivia Lihn Vial\n",
    "### 03 de julio - 2018"
   ]
  },
  {
   "cell_type": "code",
   "execution_count": 232,
   "metadata": {
    "scrolled": true
   },
   "outputs": [],
   "source": [
    "import numpy as np\n",
    "import pandas as pd\n",
    "import statsmodels.api as sm\n",
    "from scipy import stats\n",
    "stats.chisqprob = lambda chisq, df: stats.chi2.sf(chisq, df)\n",
    "from plotly.offline import download_plotlyjs, plot, iplot\n",
    "from plotly.graph_objs import *\n",
    "import plotly.plotly as py\n",
    "from plotly import tools\n",
    "import plotly.figure_factory as ff\n",
    "from sklearn.preprocessing import StandardScaler\n",
    "from sklearn import metrics\n",
    "from sklearn.decomposition import PCA\n",
    "import matplotlib.pyplot as plt \n",
    "from sklearn.model_selection import train_test_split\n",
    "import statsmodels.formula.api as smf\n",
    "from sklearn.ensemble import RandomForestClassifier\n",
    "from pygam import LogisticGAM\n",
    "from sklearn.metrics import roc_auc_score\n",
    "from sklearn.metrics import roc_curve\n",
    "from sklearn.metrics import precision_recall_curve\n",
    "import seaborn as sns\n",
    "import patsy\n",
    "from sklearn.linear_model import LogisticRegression\n",
    "from sklearn.svm import SVC\n",
    "from sklearn.preprocessing import StandardScaler\n",
    "from sklearn.naive_bayes import GaussianNB"
   ]
  },
  {
   "cell_type": "code",
   "execution_count": 2,
   "metadata": {},
   "outputs": [],
   "source": [
    "wine = pd.read_csv('winequality-red.csv')"
   ]
  },
  {
   "cell_type": "code",
   "execution_count": 3,
   "metadata": {
    "scrolled": true
   },
   "outputs": [
    {
     "data": {
      "text/html": [
       "<div>\n",
       "<style scoped>\n",
       "    .dataframe tbody tr th:only-of-type {\n",
       "        vertical-align: middle;\n",
       "    }\n",
       "\n",
       "    .dataframe tbody tr th {\n",
       "        vertical-align: top;\n",
       "    }\n",
       "\n",
       "    .dataframe thead th {\n",
       "        text-align: right;\n",
       "    }\n",
       "</style>\n",
       "<table border=\"1\" class=\"dataframe\">\n",
       "  <thead>\n",
       "    <tr style=\"text-align: right;\">\n",
       "      <th></th>\n",
       "      <th>fixed acidity</th>\n",
       "      <th>volatile acidity</th>\n",
       "      <th>citric acid</th>\n",
       "      <th>residual sugar</th>\n",
       "      <th>chlorides</th>\n",
       "      <th>free sulfur dioxide</th>\n",
       "      <th>total sulfur dioxide</th>\n",
       "      <th>density</th>\n",
       "      <th>pH</th>\n",
       "      <th>sulphates</th>\n",
       "      <th>alcohol</th>\n",
       "      <th>quality</th>\n",
       "    </tr>\n",
       "  </thead>\n",
       "  <tbody>\n",
       "    <tr>\n",
       "      <th>0</th>\n",
       "      <td>7.4</td>\n",
       "      <td>0.70</td>\n",
       "      <td>0.00</td>\n",
       "      <td>1.9</td>\n",
       "      <td>0.076</td>\n",
       "      <td>11.0</td>\n",
       "      <td>34.0</td>\n",
       "      <td>0.9978</td>\n",
       "      <td>3.51</td>\n",
       "      <td>0.56</td>\n",
       "      <td>9.4</td>\n",
       "      <td>5</td>\n",
       "    </tr>\n",
       "    <tr>\n",
       "      <th>1</th>\n",
       "      <td>7.8</td>\n",
       "      <td>0.88</td>\n",
       "      <td>0.00</td>\n",
       "      <td>2.6</td>\n",
       "      <td>0.098</td>\n",
       "      <td>25.0</td>\n",
       "      <td>67.0</td>\n",
       "      <td>0.9968</td>\n",
       "      <td>3.20</td>\n",
       "      <td>0.68</td>\n",
       "      <td>9.8</td>\n",
       "      <td>5</td>\n",
       "    </tr>\n",
       "    <tr>\n",
       "      <th>2</th>\n",
       "      <td>7.8</td>\n",
       "      <td>0.76</td>\n",
       "      <td>0.04</td>\n",
       "      <td>2.3</td>\n",
       "      <td>0.092</td>\n",
       "      <td>15.0</td>\n",
       "      <td>54.0</td>\n",
       "      <td>0.9970</td>\n",
       "      <td>3.26</td>\n",
       "      <td>0.65</td>\n",
       "      <td>9.8</td>\n",
       "      <td>5</td>\n",
       "    </tr>\n",
       "    <tr>\n",
       "      <th>3</th>\n",
       "      <td>11.2</td>\n",
       "      <td>0.28</td>\n",
       "      <td>0.56</td>\n",
       "      <td>1.9</td>\n",
       "      <td>0.075</td>\n",
       "      <td>17.0</td>\n",
       "      <td>60.0</td>\n",
       "      <td>0.9980</td>\n",
       "      <td>3.16</td>\n",
       "      <td>0.58</td>\n",
       "      <td>9.8</td>\n",
       "      <td>6</td>\n",
       "    </tr>\n",
       "    <tr>\n",
       "      <th>4</th>\n",
       "      <td>7.4</td>\n",
       "      <td>0.70</td>\n",
       "      <td>0.00</td>\n",
       "      <td>1.9</td>\n",
       "      <td>0.076</td>\n",
       "      <td>11.0</td>\n",
       "      <td>34.0</td>\n",
       "      <td>0.9978</td>\n",
       "      <td>3.51</td>\n",
       "      <td>0.56</td>\n",
       "      <td>9.4</td>\n",
       "      <td>5</td>\n",
       "    </tr>\n",
       "  </tbody>\n",
       "</table>\n",
       "</div>"
      ],
      "text/plain": [
       "   fixed acidity  volatile acidity  citric acid  residual sugar  chlorides  \\\n",
       "0            7.4              0.70         0.00             1.9      0.076   \n",
       "1            7.8              0.88         0.00             2.6      0.098   \n",
       "2            7.8              0.76         0.04             2.3      0.092   \n",
       "3           11.2              0.28         0.56             1.9      0.075   \n",
       "4            7.4              0.70         0.00             1.9      0.076   \n",
       "\n",
       "   free sulfur dioxide  total sulfur dioxide  density    pH  sulphates  \\\n",
       "0                 11.0                  34.0   0.9978  3.51       0.56   \n",
       "1                 25.0                  67.0   0.9968  3.20       0.68   \n",
       "2                 15.0                  54.0   0.9970  3.26       0.65   \n",
       "3                 17.0                  60.0   0.9980  3.16       0.58   \n",
       "4                 11.0                  34.0   0.9978  3.51       0.56   \n",
       "\n",
       "   alcohol  quality  \n",
       "0      9.4        5  \n",
       "1      9.8        5  \n",
       "2      9.8        5  \n",
       "3      9.8        6  \n",
       "4      9.4        5  "
      ]
     },
     "execution_count": 3,
     "metadata": {},
     "output_type": "execute_result"
    }
   ],
   "source": [
    "wine.head()"
   ]
  },
  {
   "cell_type": "code",
   "execution_count": 4,
   "metadata": {},
   "outputs": [
    {
     "data": {
      "text/plain": [
       "Index(['fixed acidity', 'volatile acidity', 'citric acid', 'residual sugar',\n",
       "       'chlorides', 'free sulfur dioxide', 'total sulfur dioxide', 'density',\n",
       "       'pH', 'sulphates', 'alcohol', 'quality'],\n",
       "      dtype='object')"
      ]
     },
     "execution_count": 4,
     "metadata": {},
     "output_type": "execute_result"
    }
   ],
   "source": [
    "wine.columns"
   ]
  },
  {
   "cell_type": "code",
   "execution_count": 5,
   "metadata": {},
   "outputs": [
    {
     "data": {
      "text/plain": [
       "(1599, 12)"
      ]
     },
     "execution_count": 5,
     "metadata": {},
     "output_type": "execute_result"
    }
   ],
   "source": [
    "wine.shape"
   ]
  },
  {
   "cell_type": "code",
   "execution_count": 6,
   "metadata": {},
   "outputs": [],
   "source": [
    "IPython_default = plt.rcParams.copy()"
   ]
  },
  {
   "cell_type": "markdown",
   "metadata": {},
   "source": [
    "## Análisis Univariado"
   ]
  },
  {
   "cell_type": "markdown",
   "metadata": {},
   "source": [
    "### Datos Faltantes"
   ]
  },
  {
   "cell_type": "code",
   "execution_count": 7,
   "metadata": {},
   "outputs": [
    {
     "data": {
      "text/plain": [
       "fixed acidity           0.0\n",
       "volatile acidity        0.0\n",
       "citric acid             0.0\n",
       "residual sugar          0.0\n",
       "chlorides               0.0\n",
       "free sulfur dioxide     0.0\n",
       "total sulfur dioxide    0.0\n",
       "density                 0.0\n",
       "pH                      0.0\n",
       "sulphates               0.0\n",
       "alcohol                 0.0\n",
       "quality                 0.0\n",
       "dtype: float64"
      ]
     },
     "execution_count": 7,
     "metadata": {},
     "output_type": "execute_result"
    }
   ],
   "source": [
    "null_percent = wine.isnull().sum() / wine.shape[0] * 100\n",
    "null_percent"
   ]
  },
  {
   "cell_type": "markdown",
   "metadata": {},
   "source": [
    "Como se puede apreciar la base de datos no presenta datos faltantes."
   ]
  },
  {
   "cell_type": "markdown",
   "metadata": {},
   "source": [
    "### Análisis Descriptivo"
   ]
  },
  {
   "cell_type": "code",
   "execution_count": 8,
   "metadata": {},
   "outputs": [],
   "source": [
    "def Resumen(df,variable):\n",
    "    \n",
    "    Resumen = df[variable].describe()\n",
    "    Skew = stats.skew(df[variable])\n",
    "    Kur = stats.kurtosis(df[variable])\n",
    "    table_trace2 = pd.DataFrame({ 'Media': [np.round(Resumen['mean'],3)],\n",
    "                'Std': [np.round(Resumen['std'],3)],\n",
    "                'Mínimo': [np.round(Resumen['min'],3)],\n",
    "                'Q1': [np.round(Resumen['25%'],3)],\n",
    "                'Mediana':[np.round(Resumen['50%'],3)],\n",
    "                'Q3': [np.round(Resumen['75%'],3)],\n",
    "                'Máximo': [np.round(Resumen['max'],3)],\n",
    "                'Skewness': [np.round(Skew,3)],\n",
    "                'Kurtosis': [np.round(Kur,3)]},\n",
    "                 index=['Valor'],\n",
    "                 columns=['Media','Std','Mínimo','Q1','Mediana','Q3',\n",
    "                         'Máximo','Skewness','Kurtosis']) \n",
    "    \n",
    "    return table_trace2 "
   ]
  },
  {
   "cell_type": "code",
   "execution_count": 9,
   "metadata": {},
   "outputs": [],
   "source": [
    "def Graficos(df,variable, color1, color2):\n",
    "    plt.style.use('ggplot')\n",
    "    plt.subplot(121)\n",
    "    df[variable].plot(x = variable , kind = 'hist', color = color1 )\n",
    "    plt.subplot(122)\n",
    "    df[variable].plot(x = variable , kind = 'box', color = color2 )\n",
    "    return "
   ]
  },
  {
   "cell_type": "markdown",
   "metadata": {},
   "source": [
    "**Acidez fija**"
   ]
  },
  {
   "cell_type": "code",
   "execution_count": 10,
   "metadata": {},
   "outputs": [
    {
     "data": {
      "text/html": [
       "<div>\n",
       "<style scoped>\n",
       "    .dataframe tbody tr th:only-of-type {\n",
       "        vertical-align: middle;\n",
       "    }\n",
       "\n",
       "    .dataframe tbody tr th {\n",
       "        vertical-align: top;\n",
       "    }\n",
       "\n",
       "    .dataframe thead th {\n",
       "        text-align: right;\n",
       "    }\n",
       "</style>\n",
       "<table border=\"1\" class=\"dataframe\">\n",
       "  <thead>\n",
       "    <tr style=\"text-align: right;\">\n",
       "      <th></th>\n",
       "      <th>Media</th>\n",
       "      <th>Std</th>\n",
       "      <th>Mínimo</th>\n",
       "      <th>Q1</th>\n",
       "      <th>Mediana</th>\n",
       "      <th>Q3</th>\n",
       "      <th>Máximo</th>\n",
       "      <th>Skewness</th>\n",
       "      <th>Kurtosis</th>\n",
       "    </tr>\n",
       "  </thead>\n",
       "  <tbody>\n",
       "    <tr>\n",
       "      <th>Valor</th>\n",
       "      <td>8.32</td>\n",
       "      <td>1.741</td>\n",
       "      <td>4.6</td>\n",
       "      <td>7.1</td>\n",
       "      <td>7.9</td>\n",
       "      <td>9.2</td>\n",
       "      <td>15.9</td>\n",
       "      <td>0.982</td>\n",
       "      <td>1.125</td>\n",
       "    </tr>\n",
       "  </tbody>\n",
       "</table>\n",
       "</div>"
      ],
      "text/plain": [
       "       Media    Std  Mínimo   Q1  Mediana   Q3  Máximo  Skewness  Kurtosis\n",
       "Valor   8.32  1.741     4.6  7.1      7.9  9.2    15.9     0.982     1.125"
      ]
     },
     "execution_count": 10,
     "metadata": {},
     "output_type": "execute_result"
    }
   ],
   "source": [
    "Resumen(wine,'fixed acidity')"
   ]
  },
  {
   "cell_type": "code",
   "execution_count": 11,
   "metadata": {},
   "outputs": [
    {
     "data": {
      "image/png": "[encoded data removed]",
      "text/plain": [
       "<matplotlib.figure.Figure at 0x1e0560ff6d8>"
      ]
     },
     "metadata": {},
     "output_type": "display_data"
    }
   ],
   "source": [
    "Graficos(wine,'fixed acidity','#DDA0DD' ,'#9400D3')"
   ]
  },
  {
   "cell_type": "markdown",
   "metadata": {},
   "source": [
    "**Acidez volátil**"
   ]
  },
  {
   "cell_type": "code",
   "execution_count": 12,
   "metadata": {
    "scrolled": true
   },
   "outputs": [
    {
     "data": {
      "text/html": [
       "<div>\n",
       "<style scoped>\n",
       "    .dataframe tbody tr th:only-of-type {\n",
       "        vertical-align: middle;\n",
       "    }\n",
       "\n",
       "    .dataframe tbody tr th {\n",
       "        vertical-align: top;\n",
       "    }\n",
       "\n",
       "    .dataframe thead th {\n",
       "        text-align: right;\n",
       "    }\n",
       "</style>\n",
       "<table border=\"1\" class=\"dataframe\">\n",
       "  <thead>\n",
       "    <tr style=\"text-align: right;\">\n",
       "      <th></th>\n",
       "      <th>Media</th>\n",
       "      <th>Std</th>\n",
       "      <th>Mínimo</th>\n",
       "      <th>Q1</th>\n",
       "      <th>Mediana</th>\n",
       "      <th>Q3</th>\n",
       "      <th>Máximo</th>\n",
       "      <th>Skewness</th>\n",
       "      <th>Kurtosis</th>\n",
       "    </tr>\n",
       "  </thead>\n",
       "  <tbody>\n",
       "    <tr>\n",
       "      <th>Valor</th>\n",
       "      <td>0.528</td>\n",
       "      <td>0.179</td>\n",
       "      <td>0.12</td>\n",
       "      <td>0.39</td>\n",
       "      <td>0.52</td>\n",
       "      <td>0.64</td>\n",
       "      <td>1.58</td>\n",
       "      <td>0.671</td>\n",
       "      <td>1.218</td>\n",
       "    </tr>\n",
       "  </tbody>\n",
       "</table>\n",
       "</div>"
      ],
      "text/plain": [
       "       Media    Std  Mínimo    Q1  Mediana    Q3  Máximo  Skewness  Kurtosis\n",
       "Valor  0.528  0.179    0.12  0.39     0.52  0.64    1.58     0.671     1.218"
      ]
     },
     "execution_count": 12,
     "metadata": {},
     "output_type": "execute_result"
    }
   ],
   "source": [
    "Resumen(wine,'volatile acidity')"
   ]
  },
  {
   "cell_type": "code",
   "execution_count": 13,
   "metadata": {},
   "outputs": [
    {
     "data": {
      "image/png": "[encoded data removed]",
      "text/plain": [
       "<matplotlib.figure.Figure at 0x1e0560ff7f0>"
      ]
     },
     "metadata": {},
     "output_type": "display_data"
    }
   ],
   "source": [
    "Graficos(wine,'volatile acidity', '#40E0D0', '#00CED1')"
   ]
  },
  {
   "cell_type": "markdown",
   "metadata": {},
   "source": [
    "**Ácido cítrico**"
   ]
  },
  {
   "cell_type": "code",
   "execution_count": 14,
   "metadata": {},
   "outputs": [
    {
     "data": {
      "text/html": [
       "<div>\n",
       "<style scoped>\n",
       "    .dataframe tbody tr th:only-of-type {\n",
       "        vertical-align: middle;\n",
       "    }\n",
       "\n",
       "    .dataframe tbody tr th {\n",
       "        vertical-align: top;\n",
       "    }\n",
       "\n",
       "    .dataframe thead th {\n",
       "        text-align: right;\n",
       "    }\n",
       "</style>\n",
       "<table border=\"1\" class=\"dataframe\">\n",
       "  <thead>\n",
       "    <tr style=\"text-align: right;\">\n",
       "      <th></th>\n",
       "      <th>Media</th>\n",
       "      <th>Std</th>\n",
       "      <th>Mínimo</th>\n",
       "      <th>Q1</th>\n",
       "      <th>Mediana</th>\n",
       "      <th>Q3</th>\n",
       "      <th>Máximo</th>\n",
       "      <th>Skewness</th>\n",
       "      <th>Kurtosis</th>\n",
       "    </tr>\n",
       "  </thead>\n",
       "  <tbody>\n",
       "    <tr>\n",
       "      <th>Valor</th>\n",
       "      <td>0.271</td>\n",
       "      <td>0.195</td>\n",
       "      <td>0.0</td>\n",
       "      <td>0.09</td>\n",
       "      <td>0.26</td>\n",
       "      <td>0.42</td>\n",
       "      <td>1.0</td>\n",
       "      <td>0.318</td>\n",
       "      <td>-0.79</td>\n",
       "    </tr>\n",
       "  </tbody>\n",
       "</table>\n",
       "</div>"
      ],
      "text/plain": [
       "       Media    Std  Mínimo    Q1  Mediana    Q3  Máximo  Skewness  Kurtosis\n",
       "Valor  0.271  0.195     0.0  0.09     0.26  0.42     1.0     0.318     -0.79"
      ]
     },
     "execution_count": 14,
     "metadata": {},
     "output_type": "execute_result"
    }
   ],
   "source": [
    "Resumen(wine, 'citric acid')"
   ]
  },
  {
   "cell_type": "code",
   "execution_count": 15,
   "metadata": {
    "scrolled": true
   },
   "outputs": [
    {
     "data": {
      "image/png": "[encoded data removed]",
      "text/plain": [
       "<matplotlib.figure.Figure at 0x1e0564e2a20>"
      ]
     },
     "metadata": {},
     "output_type": "display_data"
    }
   ],
   "source": [
    "Graficos(wine, 'citric acid', '#9370DB', '#483D8B')"
   ]
  },
  {
   "cell_type": "markdown",
   "metadata": {},
   "source": [
    "**Azúcar residual**"
   ]
  },
  {
   "cell_type": "code",
   "execution_count": 16,
   "metadata": {},
   "outputs": [
    {
     "data": {
      "text/html": [
       "<div>\n",
       "<style scoped>\n",
       "    .dataframe tbody tr th:only-of-type {\n",
       "        vertical-align: middle;\n",
       "    }\n",
       "\n",
       "    .dataframe tbody tr th {\n",
       "        vertical-align: top;\n",
       "    }\n",
       "\n",
       "    .dataframe thead th {\n",
       "        text-align: right;\n",
       "    }\n",
       "</style>\n",
       "<table border=\"1\" class=\"dataframe\">\n",
       "  <thead>\n",
       "    <tr style=\"text-align: right;\">\n",
       "      <th></th>\n",
       "      <th>Media</th>\n",
       "      <th>Std</th>\n",
       "      <th>Mínimo</th>\n",
       "      <th>Q1</th>\n",
       "      <th>Mediana</th>\n",
       "      <th>Q3</th>\n",
       "      <th>Máximo</th>\n",
       "      <th>Skewness</th>\n",
       "      <th>Kurtosis</th>\n",
       "    </tr>\n",
       "  </thead>\n",
       "  <tbody>\n",
       "    <tr>\n",
       "      <th>Valor</th>\n",
       "      <td>2.539</td>\n",
       "      <td>1.41</td>\n",
       "      <td>0.9</td>\n",
       "      <td>1.9</td>\n",
       "      <td>2.2</td>\n",
       "      <td>2.6</td>\n",
       "      <td>15.5</td>\n",
       "      <td>4.536</td>\n",
       "      <td>28.524</td>\n",
       "    </tr>\n",
       "  </tbody>\n",
       "</table>\n",
       "</div>"
      ],
      "text/plain": [
       "       Media   Std  Mínimo   Q1  Mediana   Q3  Máximo  Skewness  Kurtosis\n",
       "Valor  2.539  1.41     0.9  1.9      2.2  2.6    15.5     4.536    28.524"
      ]
     },
     "execution_count": 16,
     "metadata": {},
     "output_type": "execute_result"
    }
   ],
   "source": [
    "Resumen(wine,'residual sugar')"
   ]
  },
  {
   "cell_type": "code",
   "execution_count": 17,
   "metadata": {},
   "outputs": [
    {
     "data": {
      "image/png": "[encoded data removed]",
      "text/plain": [
       "<matplotlib.figure.Figure at 0x1e0560ff7b8>"
      ]
     },
     "metadata": {},
     "output_type": "display_data"
    }
   ],
   "source": [
    "Graficos(wine, 'residual sugar', '#FFB6C1','#C71585')"
   ]
  },
  {
   "cell_type": "markdown",
   "metadata": {},
   "source": [
    "**Cloruros**"
   ]
  },
  {
   "cell_type": "code",
   "execution_count": 18,
   "metadata": {},
   "outputs": [
    {
     "data": {
      "text/html": [
       "<div>\n",
       "<style scoped>\n",
       "    .dataframe tbody tr th:only-of-type {\n",
       "        vertical-align: middle;\n",
       "    }\n",
       "\n",
       "    .dataframe tbody tr th {\n",
       "        vertical-align: top;\n",
       "    }\n",
       "\n",
       "    .dataframe thead th {\n",
       "        text-align: right;\n",
       "    }\n",
       "</style>\n",
       "<table border=\"1\" class=\"dataframe\">\n",
       "  <thead>\n",
       "    <tr style=\"text-align: right;\">\n",
       "      <th></th>\n",
       "      <th>Media</th>\n",
       "      <th>Std</th>\n",
       "      <th>Mínimo</th>\n",
       "      <th>Q1</th>\n",
       "      <th>Mediana</th>\n",
       "      <th>Q3</th>\n",
       "      <th>Máximo</th>\n",
       "      <th>Skewness</th>\n",
       "      <th>Kurtosis</th>\n",
       "    </tr>\n",
       "  </thead>\n",
       "  <tbody>\n",
       "    <tr>\n",
       "      <th>Valor</th>\n",
       "      <td>0.087</td>\n",
       "      <td>0.047</td>\n",
       "      <td>0.012</td>\n",
       "      <td>0.07</td>\n",
       "      <td>0.079</td>\n",
       "      <td>0.09</td>\n",
       "      <td>0.611</td>\n",
       "      <td>5.675</td>\n",
       "      <td>41.582</td>\n",
       "    </tr>\n",
       "  </tbody>\n",
       "</table>\n",
       "</div>"
      ],
      "text/plain": [
       "       Media    Std  Mínimo    Q1  Mediana    Q3  Máximo  Skewness  Kurtosis\n",
       "Valor  0.087  0.047   0.012  0.07    0.079  0.09   0.611     5.675    41.582"
      ]
     },
     "execution_count": 18,
     "metadata": {},
     "output_type": "execute_result"
    }
   ],
   "source": [
    "Resumen(wine,'chlorides')"
   ]
  },
  {
   "cell_type": "code",
   "execution_count": 19,
   "metadata": {},
   "outputs": [
    {
     "data": {
      "image/png": "[encoded data removed]",
      "text/plain": [
       "<matplotlib.figure.Figure at 0x1e05665d630>"
      ]
     },
     "metadata": {},
     "output_type": "display_data"
    }
   ],
   "source": [
    "Graficos(wine,'chlorides','#DDA0DD' ,'#9400D3')"
   ]
  },
  {
   "cell_type": "markdown",
   "metadata": {},
   "source": [
    "**Dióxido de azufre libre**"
   ]
  },
  {
   "cell_type": "code",
   "execution_count": 20,
   "metadata": {},
   "outputs": [
    {
     "data": {
      "text/html": [
       "<div>\n",
       "<style scoped>\n",
       "    .dataframe tbody tr th:only-of-type {\n",
       "        vertical-align: middle;\n",
       "    }\n",
       "\n",
       "    .dataframe tbody tr th {\n",
       "        vertical-align: top;\n",
       "    }\n",
       "\n",
       "    .dataframe thead th {\n",
       "        text-align: right;\n",
       "    }\n",
       "</style>\n",
       "<table border=\"1\" class=\"dataframe\">\n",
       "  <thead>\n",
       "    <tr style=\"text-align: right;\">\n",
       "      <th></th>\n",
       "      <th>Media</th>\n",
       "      <th>Std</th>\n",
       "      <th>Mínimo</th>\n",
       "      <th>Q1</th>\n",
       "      <th>Mediana</th>\n",
       "      <th>Q3</th>\n",
       "      <th>Máximo</th>\n",
       "      <th>Skewness</th>\n",
       "      <th>Kurtosis</th>\n",
       "    </tr>\n",
       "  </thead>\n",
       "  <tbody>\n",
       "    <tr>\n",
       "      <th>Valor</th>\n",
       "      <td>15.875</td>\n",
       "      <td>10.46</td>\n",
       "      <td>1.0</td>\n",
       "      <td>7.0</td>\n",
       "      <td>14.0</td>\n",
       "      <td>21.0</td>\n",
       "      <td>72.0</td>\n",
       "      <td>1.249</td>\n",
       "      <td>2.013</td>\n",
       "    </tr>\n",
       "  </tbody>\n",
       "</table>\n",
       "</div>"
      ],
      "text/plain": [
       "        Media    Std  Mínimo   Q1  Mediana    Q3  Máximo  Skewness  Kurtosis\n",
       "Valor  15.875  10.46     1.0  7.0     14.0  21.0    72.0     1.249     2.013"
      ]
     },
     "execution_count": 20,
     "metadata": {},
     "output_type": "execute_result"
    }
   ],
   "source": [
    "Resumen(wine,'free sulfur dioxide')"
   ]
  },
  {
   "cell_type": "code",
   "execution_count": 21,
   "metadata": {},
   "outputs": [
    {
     "data": {
      "image/png": "[encoded data removed]",
      "text/plain": [
       "<matplotlib.figure.Figure at 0x1e05773a4a8>"
      ]
     },
     "metadata": {},
     "output_type": "display_data"
    }
   ],
   "source": [
    "Graficos(wine,'free sulfur dioxide', '#40E0D0', '#00CED1')"
   ]
  },
  {
   "cell_type": "markdown",
   "metadata": {},
   "source": [
    "**Dióxido de azufre total**"
   ]
  },
  {
   "cell_type": "code",
   "execution_count": 22,
   "metadata": {},
   "outputs": [
    {
     "data": {
      "text/html": [
       "<div>\n",
       "<style scoped>\n",
       "    .dataframe tbody tr th:only-of-type {\n",
       "        vertical-align: middle;\n",
       "    }\n",
       "\n",
       "    .dataframe tbody tr th {\n",
       "        vertical-align: top;\n",
       "    }\n",
       "\n",
       "    .dataframe thead th {\n",
       "        text-align: right;\n",
       "    }\n",
       "</style>\n",
       "<table border=\"1\" class=\"dataframe\">\n",
       "  <thead>\n",
       "    <tr style=\"text-align: right;\">\n",
       "      <th></th>\n",
       "      <th>Media</th>\n",
       "      <th>Std</th>\n",
       "      <th>Mínimo</th>\n",
       "      <th>Q1</th>\n",
       "      <th>Mediana</th>\n",
       "      <th>Q3</th>\n",
       "      <th>Máximo</th>\n",
       "      <th>Skewness</th>\n",
       "      <th>Kurtosis</th>\n",
       "    </tr>\n",
       "  </thead>\n",
       "  <tbody>\n",
       "    <tr>\n",
       "      <th>Valor</th>\n",
       "      <td>46.468</td>\n",
       "      <td>32.895</td>\n",
       "      <td>6.0</td>\n",
       "      <td>22.0</td>\n",
       "      <td>38.0</td>\n",
       "      <td>62.0</td>\n",
       "      <td>289.0</td>\n",
       "      <td>1.514</td>\n",
       "      <td>3.794</td>\n",
       "    </tr>\n",
       "  </tbody>\n",
       "</table>\n",
       "</div>"
      ],
      "text/plain": [
       "        Media     Std  Mínimo    Q1  Mediana    Q3  Máximo  Skewness  Kurtosis\n",
       "Valor  46.468  32.895     6.0  22.0     38.0  62.0   289.0     1.514     3.794"
      ]
     },
     "execution_count": 22,
     "metadata": {},
     "output_type": "execute_result"
    }
   ],
   "source": [
    "Resumen(wine,'total sulfur dioxide')"
   ]
  },
  {
   "cell_type": "code",
   "execution_count": 23,
   "metadata": {},
   "outputs": [
    {
     "data": {
      "image/png": "[encoded data removed]",
      "text/plain": [
       "<matplotlib.figure.Figure at 0x1e057809588>"
      ]
     },
     "metadata": {},
     "output_type": "display_data"
    }
   ],
   "source": [
    "Graficos(wine, 'total sulfur dioxide', '#9370DB', '#483D8B')"
   ]
  },
  {
   "cell_type": "markdown",
   "metadata": {},
   "source": [
    "**Densidad**"
   ]
  },
  {
   "cell_type": "code",
   "execution_count": 24,
   "metadata": {},
   "outputs": [
    {
     "data": {
      "text/html": [
       "<div>\n",
       "<style scoped>\n",
       "    .dataframe tbody tr th:only-of-type {\n",
       "        vertical-align: middle;\n",
       "    }\n",
       "\n",
       "    .dataframe tbody tr th {\n",
       "        vertical-align: top;\n",
       "    }\n",
       "\n",
       "    .dataframe thead th {\n",
       "        text-align: right;\n",
       "    }\n",
       "</style>\n",
       "<table border=\"1\" class=\"dataframe\">\n",
       "  <thead>\n",
       "    <tr style=\"text-align: right;\">\n",
       "      <th></th>\n",
       "      <th>Media</th>\n",
       "      <th>Std</th>\n",
       "      <th>Mínimo</th>\n",
       "      <th>Q1</th>\n",
       "      <th>Mediana</th>\n",
       "      <th>Q3</th>\n",
       "      <th>Máximo</th>\n",
       "      <th>Skewness</th>\n",
       "      <th>Kurtosis</th>\n",
       "    </tr>\n",
       "  </thead>\n",
       "  <tbody>\n",
       "    <tr>\n",
       "      <th>Valor</th>\n",
       "      <td>0.997</td>\n",
       "      <td>0.002</td>\n",
       "      <td>0.99</td>\n",
       "      <td>0.996</td>\n",
       "      <td>0.997</td>\n",
       "      <td>0.998</td>\n",
       "      <td>1.004</td>\n",
       "      <td>0.071</td>\n",
       "      <td>0.927</td>\n",
       "    </tr>\n",
       "  </tbody>\n",
       "</table>\n",
       "</div>"
      ],
      "text/plain": [
       "       Media    Std  Mínimo     Q1  Mediana     Q3  Máximo  Skewness  Kurtosis\n",
       "Valor  0.997  0.002    0.99  0.996    0.997  0.998   1.004     0.071     0.927"
      ]
     },
     "execution_count": 24,
     "metadata": {},
     "output_type": "execute_result"
    }
   ],
   "source": [
    "Resumen(wine,'density')"
   ]
  },
  {
   "cell_type": "code",
   "execution_count": 25,
   "metadata": {},
   "outputs": [
    {
     "data": {
      "image/png": "[encoded data removed]",
      "text/plain": [
       "<matplotlib.figure.Figure at 0x1e057982208>"
      ]
     },
     "metadata": {},
     "output_type": "display_data"
    }
   ],
   "source": [
    "Graficos(wine, 'density', '#FFB6C1','#C71585')"
   ]
  },
  {
   "cell_type": "markdown",
   "metadata": {},
   "source": [
    "**pH** "
   ]
  },
  {
   "cell_type": "code",
   "execution_count": 26,
   "metadata": {},
   "outputs": [
    {
     "data": {
      "text/html": [
       "<div>\n",
       "<style scoped>\n",
       "    .dataframe tbody tr th:only-of-type {\n",
       "        vertical-align: middle;\n",
       "    }\n",
       "\n",
       "    .dataframe tbody tr th {\n",
       "        vertical-align: top;\n",
       "    }\n",
       "\n",
       "    .dataframe thead th {\n",
       "        text-align: right;\n",
       "    }\n",
       "</style>\n",
       "<table border=\"1\" class=\"dataframe\">\n",
       "  <thead>\n",
       "    <tr style=\"text-align: right;\">\n",
       "      <th></th>\n",
       "      <th>Media</th>\n",
       "      <th>Std</th>\n",
       "      <th>Mínimo</th>\n",
       "      <th>Q1</th>\n",
       "      <th>Mediana</th>\n",
       "      <th>Q3</th>\n",
       "      <th>Máximo</th>\n",
       "      <th>Skewness</th>\n",
       "      <th>Kurtosis</th>\n",
       "    </tr>\n",
       "  </thead>\n",
       "  <tbody>\n",
       "    <tr>\n",
       "      <th>Valor</th>\n",
       "      <td>3.311</td>\n",
       "      <td>0.154</td>\n",
       "      <td>2.74</td>\n",
       "      <td>3.21</td>\n",
       "      <td>3.31</td>\n",
       "      <td>3.4</td>\n",
       "      <td>4.01</td>\n",
       "      <td>0.194</td>\n",
       "      <td>0.801</td>\n",
       "    </tr>\n",
       "  </tbody>\n",
       "</table>\n",
       "</div>"
      ],
      "text/plain": [
       "       Media    Std  Mínimo    Q1  Mediana   Q3  Máximo  Skewness  Kurtosis\n",
       "Valor  3.311  0.154    2.74  3.21     3.31  3.4    4.01     0.194     0.801"
      ]
     },
     "execution_count": 26,
     "metadata": {},
     "output_type": "execute_result"
    }
   ],
   "source": [
    "Resumen(wine,'pH')"
   ]
  },
  {
   "cell_type": "code",
   "execution_count": 27,
   "metadata": {},
   "outputs": [
    {
     "data": {
      "image/png": "[encoded data removed]",
      "text/plain": [
       "<matplotlib.figure.Figure at 0x1e0579f6198>"
      ]
     },
     "metadata": {},
     "output_type": "display_data"
    }
   ],
   "source": [
    "Graficos(wine,'pH','#DDA0DD' ,'#9400D3')"
   ]
  },
  {
   "cell_type": "markdown",
   "metadata": {},
   "source": [
    "**Sulfatos**"
   ]
  },
  {
   "cell_type": "code",
   "execution_count": 28,
   "metadata": {},
   "outputs": [
    {
     "data": {
      "text/html": [
       "<div>\n",
       "<style scoped>\n",
       "    .dataframe tbody tr th:only-of-type {\n",
       "        vertical-align: middle;\n",
       "    }\n",
       "\n",
       "    .dataframe tbody tr th {\n",
       "        vertical-align: top;\n",
       "    }\n",
       "\n",
       "    .dataframe thead th {\n",
       "        text-align: right;\n",
       "    }\n",
       "</style>\n",
       "<table border=\"1\" class=\"dataframe\">\n",
       "  <thead>\n",
       "    <tr style=\"text-align: right;\">\n",
       "      <th></th>\n",
       "      <th>Media</th>\n",
       "      <th>Std</th>\n",
       "      <th>Mínimo</th>\n",
       "      <th>Q1</th>\n",
       "      <th>Mediana</th>\n",
       "      <th>Q3</th>\n",
       "      <th>Máximo</th>\n",
       "      <th>Skewness</th>\n",
       "      <th>Kurtosis</th>\n",
       "    </tr>\n",
       "  </thead>\n",
       "  <tbody>\n",
       "    <tr>\n",
       "      <th>Valor</th>\n",
       "      <td>0.658</td>\n",
       "      <td>0.17</td>\n",
       "      <td>0.33</td>\n",
       "      <td>0.55</td>\n",
       "      <td>0.62</td>\n",
       "      <td>0.73</td>\n",
       "      <td>2.0</td>\n",
       "      <td>2.426</td>\n",
       "      <td>11.68</td>\n",
       "    </tr>\n",
       "  </tbody>\n",
       "</table>\n",
       "</div>"
      ],
      "text/plain": [
       "       Media   Std  Mínimo    Q1  Mediana    Q3  Máximo  Skewness  Kurtosis\n",
       "Valor  0.658  0.17    0.33  0.55     0.62  0.73     2.0     2.426     11.68"
      ]
     },
     "execution_count": 28,
     "metadata": {},
     "output_type": "execute_result"
    }
   ],
   "source": [
    "Resumen(wine,'sulphates')"
   ]
  },
  {
   "cell_type": "code",
   "execution_count": 29,
   "metadata": {},
   "outputs": [
    {
     "data": {
      "image/png": "[encoded data removed]",
      "text/plain": [
       "<matplotlib.figure.Figure at 0x1e0579d0550>"
      ]
     },
     "metadata": {},
     "output_type": "display_data"
    }
   ],
   "source": [
    "Graficos(wine,'sulphates', '#40E0D0', '#00CED1')"
   ]
  },
  {
   "cell_type": "markdown",
   "metadata": {},
   "source": [
    "**Alcohol**"
   ]
  },
  {
   "cell_type": "code",
   "execution_count": 30,
   "metadata": {},
   "outputs": [
    {
     "data": {
      "text/html": [
       "<div>\n",
       "<style scoped>\n",
       "    .dataframe tbody tr th:only-of-type {\n",
       "        vertical-align: middle;\n",
       "    }\n",
       "\n",
       "    .dataframe tbody tr th {\n",
       "        vertical-align: top;\n",
       "    }\n",
       "\n",
       "    .dataframe thead th {\n",
       "        text-align: right;\n",
       "    }\n",
       "</style>\n",
       "<table border=\"1\" class=\"dataframe\">\n",
       "  <thead>\n",
       "    <tr style=\"text-align: right;\">\n",
       "      <th></th>\n",
       "      <th>Media</th>\n",
       "      <th>Std</th>\n",
       "      <th>Mínimo</th>\n",
       "      <th>Q1</th>\n",
       "      <th>Mediana</th>\n",
       "      <th>Q3</th>\n",
       "      <th>Máximo</th>\n",
       "      <th>Skewness</th>\n",
       "      <th>Kurtosis</th>\n",
       "    </tr>\n",
       "  </thead>\n",
       "  <tbody>\n",
       "    <tr>\n",
       "      <th>Valor</th>\n",
       "      <td>10.423</td>\n",
       "      <td>1.066</td>\n",
       "      <td>8.4</td>\n",
       "      <td>9.5</td>\n",
       "      <td>10.2</td>\n",
       "      <td>11.1</td>\n",
       "      <td>14.9</td>\n",
       "      <td>0.86</td>\n",
       "      <td>0.196</td>\n",
       "    </tr>\n",
       "  </tbody>\n",
       "</table>\n",
       "</div>"
      ],
      "text/plain": [
       "        Media    Std  Mínimo   Q1  Mediana    Q3  Máximo  Skewness  Kurtosis\n",
       "Valor  10.423  1.066     8.4  9.5     10.2  11.1    14.9      0.86     0.196"
      ]
     },
     "execution_count": 30,
     "metadata": {},
     "output_type": "execute_result"
    }
   ],
   "source": [
    "Resumen(wine,'alcohol')"
   ]
  },
  {
   "cell_type": "code",
   "execution_count": 31,
   "metadata": {},
   "outputs": [
    {
     "data": {
      "image/png": "[encoded data removed]",
      "text/plain": [
       "<matplotlib.figure.Figure at 0x1e0579f63c8>"
      ]
     },
     "metadata": {},
     "output_type": "display_data"
    }
   ],
   "source": [
    "Graficos(wine, 'alcohol', '#9370DB', '#483D8B')"
   ]
  },
  {
   "cell_type": "markdown",
   "metadata": {},
   "source": [
    "**Calidad**"
   ]
  },
  {
   "cell_type": "code",
   "execution_count": 32,
   "metadata": {},
   "outputs": [
    {
     "data": {
      "text/plain": [
       "<matplotlib.axes._subplots.AxesSubplot at 0x1e057937ac8>"
      ]
     },
     "execution_count": 32,
     "metadata": {},
     "output_type": "execute_result"
    },
    {
     "data": {
      "image/png": "[encoded data removed]",
      "text/plain": [
       "<matplotlib.figure.Figure at 0x1e0579b6c88>"
      ]
     },
     "metadata": {},
     "output_type": "display_data"
    }
   ],
   "source": [
    "sns.countplot(x='quality', data=wine, color = '#6495ED')"
   ]
  },
  {
   "cell_type": "markdown",
   "metadata": {},
   "source": [
    "En este caso nos interesa ver si un vino es de buena calidad o mala calidad, para esto se va a considerar que un vino es de buena calidad si tiene una calidad mayor o igual a 6 y de mala calidad si tiene una calidad menor a 6."
   ]
  },
  {
   "cell_type": "code",
   "execution_count": 33,
   "metadata": {},
   "outputs": [],
   "source": [
    "wine = wine.assign(Calidad = lambda x: (x.quality>=6 ) * 1 )"
   ]
  },
  {
   "cell_type": "code",
   "execution_count": 34,
   "metadata": {},
   "outputs": [
    {
     "data": {
      "text/html": [
       "<div>\n",
       "<style scoped>\n",
       "    .dataframe tbody tr th:only-of-type {\n",
       "        vertical-align: middle;\n",
       "    }\n",
       "\n",
       "    .dataframe tbody tr th {\n",
       "        vertical-align: top;\n",
       "    }\n",
       "\n",
       "    .dataframe thead th {\n",
       "        text-align: right;\n",
       "    }\n",
       "</style>\n",
       "<table border=\"1\" class=\"dataframe\">\n",
       "  <thead>\n",
       "    <tr style=\"text-align: right;\">\n",
       "      <th></th>\n",
       "      <th>fixed acidity</th>\n",
       "      <th>volatile acidity</th>\n",
       "      <th>citric acid</th>\n",
       "      <th>residual sugar</th>\n",
       "      <th>chlorides</th>\n",
       "      <th>free sulfur dioxide</th>\n",
       "      <th>total sulfur dioxide</th>\n",
       "      <th>density</th>\n",
       "      <th>pH</th>\n",
       "      <th>sulphates</th>\n",
       "      <th>alcohol</th>\n",
       "      <th>quality</th>\n",
       "      <th>Calidad</th>\n",
       "    </tr>\n",
       "  </thead>\n",
       "  <tbody>\n",
       "    <tr>\n",
       "      <th>0</th>\n",
       "      <td>7.4</td>\n",
       "      <td>0.70</td>\n",
       "      <td>0.00</td>\n",
       "      <td>1.9</td>\n",
       "      <td>0.076</td>\n",
       "      <td>11.0</td>\n",
       "      <td>34.0</td>\n",
       "      <td>0.9978</td>\n",
       "      <td>3.51</td>\n",
       "      <td>0.56</td>\n",
       "      <td>9.4</td>\n",
       "      <td>5</td>\n",
       "      <td>0</td>\n",
       "    </tr>\n",
       "    <tr>\n",
       "      <th>1</th>\n",
       "      <td>7.8</td>\n",
       "      <td>0.88</td>\n",
       "      <td>0.00</td>\n",
       "      <td>2.6</td>\n",
       "      <td>0.098</td>\n",
       "      <td>25.0</td>\n",
       "      <td>67.0</td>\n",
       "      <td>0.9968</td>\n",
       "      <td>3.20</td>\n",
       "      <td>0.68</td>\n",
       "      <td>9.8</td>\n",
       "      <td>5</td>\n",
       "      <td>0</td>\n",
       "    </tr>\n",
       "    <tr>\n",
       "      <th>2</th>\n",
       "      <td>7.8</td>\n",
       "      <td>0.76</td>\n",
       "      <td>0.04</td>\n",
       "      <td>2.3</td>\n",
       "      <td>0.092</td>\n",
       "      <td>15.0</td>\n",
       "      <td>54.0</td>\n",
       "      <td>0.9970</td>\n",
       "      <td>3.26</td>\n",
       "      <td>0.65</td>\n",
       "      <td>9.8</td>\n",
       "      <td>5</td>\n",
       "      <td>0</td>\n",
       "    </tr>\n",
       "    <tr>\n",
       "      <th>3</th>\n",
       "      <td>11.2</td>\n",
       "      <td>0.28</td>\n",
       "      <td>0.56</td>\n",
       "      <td>1.9</td>\n",
       "      <td>0.075</td>\n",
       "      <td>17.0</td>\n",
       "      <td>60.0</td>\n",
       "      <td>0.9980</td>\n",
       "      <td>3.16</td>\n",
       "      <td>0.58</td>\n",
       "      <td>9.8</td>\n",
       "      <td>6</td>\n",
       "      <td>1</td>\n",
       "    </tr>\n",
       "    <tr>\n",
       "      <th>4</th>\n",
       "      <td>7.4</td>\n",
       "      <td>0.70</td>\n",
       "      <td>0.00</td>\n",
       "      <td>1.9</td>\n",
       "      <td>0.076</td>\n",
       "      <td>11.0</td>\n",
       "      <td>34.0</td>\n",
       "      <td>0.9978</td>\n",
       "      <td>3.51</td>\n",
       "      <td>0.56</td>\n",
       "      <td>9.4</td>\n",
       "      <td>5</td>\n",
       "      <td>0</td>\n",
       "    </tr>\n",
       "  </tbody>\n",
       "</table>\n",
       "</div>"
      ],
      "text/plain": [
       "   fixed acidity  volatile acidity  citric acid  residual sugar  chlorides  \\\n",
       "0            7.4              0.70         0.00             1.9      0.076   \n",
       "1            7.8              0.88         0.00             2.6      0.098   \n",
       "2            7.8              0.76         0.04             2.3      0.092   \n",
       "3           11.2              0.28         0.56             1.9      0.075   \n",
       "4            7.4              0.70         0.00             1.9      0.076   \n",
       "\n",
       "   free sulfur dioxide  total sulfur dioxide  density    pH  sulphates  \\\n",
       "0                 11.0                  34.0   0.9978  3.51       0.56   \n",
       "1                 25.0                  67.0   0.9968  3.20       0.68   \n",
       "2                 15.0                  54.0   0.9970  3.26       0.65   \n",
       "3                 17.0                  60.0   0.9980  3.16       0.58   \n",
       "4                 11.0                  34.0   0.9978  3.51       0.56   \n",
       "\n",
       "   alcohol  quality  Calidad  \n",
       "0      9.4        5        0  \n",
       "1      9.8        5        0  \n",
       "2      9.8        5        0  \n",
       "3      9.8        6        1  \n",
       "4      9.4        5        0  "
      ]
     },
     "execution_count": 34,
     "metadata": {},
     "output_type": "execute_result"
    }
   ],
   "source": [
    "wine.head()"
   ]
  },
  {
   "cell_type": "code",
   "execution_count": 35,
   "metadata": {},
   "outputs": [
    {
     "data": {
      "text/plain": [
       "<matplotlib.axes._subplots.AxesSubplot at 0x1e0560b3390>"
      ]
     },
     "execution_count": 35,
     "metadata": {},
     "output_type": "execute_result"
    },
    {
     "data": {
      "image/png": "[encoded data removed]",
      "text/plain": [
       "<matplotlib.figure.Figure at 0x1e057a3f390>"
      ]
     },
     "metadata": {},
     "output_type": "display_data"
    }
   ],
   "source": [
    "sns.countplot(x='Calidad', data=wine, color = '#BA55D3')"
   ]
  },
  {
   "cell_type": "code",
   "execution_count": 36,
   "metadata": {},
   "outputs": [
    {
     "name": "stdout",
     "output_type": "stream",
     "text": [
      "Tabla de Valores\n",
      "0    744\n",
      "1    855\n",
      "Name: Calidad, dtype: int64\n",
      " \n",
      "Tabla de Porcentajes\n",
      "0    0.465291\n",
      "1    0.534709\n",
      "Name: Calidad, dtype: float64\n"
     ]
    }
   ],
   "source": [
    "print('Tabla de Valores')\n",
    "print(wine['Calidad'].value_counts(sort = False))\n",
    "print(' ')\n",
    "print('Tabla de Porcentajes')\n",
    "print(wine['Calidad'].value_counts(sort = False) / wine.shape[0])"
   ]
  },
  {
   "cell_type": "markdown",
   "metadata": {},
   "source": [
    "Vemos que la variable respuesta se encuentra relativamente balanceada en la data, lo cual simplifica las consideraciones al momento de dividir la base en entrenamiento y validación. "
   ]
  },
  {
   "cell_type": "markdown",
   "metadata": {},
   "source": [
    "## Análisis Multivariado"
   ]
  },
  {
   "cell_type": "code",
   "execution_count": 37,
   "metadata": {},
   "outputs": [
    {
     "data": {
      "text/html": [
       "<div>\n",
       "<style scoped>\n",
       "    .dataframe tbody tr th:only-of-type {\n",
       "        vertical-align: middle;\n",
       "    }\n",
       "\n",
       "    .dataframe tbody tr th {\n",
       "        vertical-align: top;\n",
       "    }\n",
       "\n",
       "    .dataframe thead th {\n",
       "        text-align: right;\n",
       "    }\n",
       "</style>\n",
       "<table border=\"1\" class=\"dataframe\">\n",
       "  <thead>\n",
       "    <tr style=\"text-align: right;\">\n",
       "      <th></th>\n",
       "      <th>fixed acidity</th>\n",
       "      <th>volatile acidity</th>\n",
       "      <th>citric acid</th>\n",
       "      <th>residual sugar</th>\n",
       "      <th>chlorides</th>\n",
       "      <th>free sulfur dioxide</th>\n",
       "      <th>total sulfur dioxide</th>\n",
       "      <th>density</th>\n",
       "      <th>pH</th>\n",
       "      <th>sulphates</th>\n",
       "      <th>alcohol</th>\n",
       "    </tr>\n",
       "  </thead>\n",
       "  <tbody>\n",
       "    <tr>\n",
       "      <th>fixed acidity</th>\n",
       "      <td>1.000000</td>\n",
       "      <td>-0.256131</td>\n",
       "      <td>0.671703</td>\n",
       "      <td>0.114777</td>\n",
       "      <td>0.093705</td>\n",
       "      <td>-0.153794</td>\n",
       "      <td>-0.113181</td>\n",
       "      <td>0.668047</td>\n",
       "      <td>-0.682978</td>\n",
       "      <td>0.183006</td>\n",
       "      <td>-0.061668</td>\n",
       "    </tr>\n",
       "    <tr>\n",
       "      <th>volatile acidity</th>\n",
       "      <td>-0.256131</td>\n",
       "      <td>1.000000</td>\n",
       "      <td>-0.552496</td>\n",
       "      <td>0.001918</td>\n",
       "      <td>0.061298</td>\n",
       "      <td>-0.010504</td>\n",
       "      <td>0.076470</td>\n",
       "      <td>0.022026</td>\n",
       "      <td>0.234937</td>\n",
       "      <td>-0.260987</td>\n",
       "      <td>-0.202288</td>\n",
       "    </tr>\n",
       "    <tr>\n",
       "      <th>citric acid</th>\n",
       "      <td>0.671703</td>\n",
       "      <td>-0.552496</td>\n",
       "      <td>1.000000</td>\n",
       "      <td>0.143577</td>\n",
       "      <td>0.203823</td>\n",
       "      <td>-0.060978</td>\n",
       "      <td>0.035533</td>\n",
       "      <td>0.364947</td>\n",
       "      <td>-0.541904</td>\n",
       "      <td>0.312770</td>\n",
       "      <td>0.109903</td>\n",
       "    </tr>\n",
       "    <tr>\n",
       "      <th>residual sugar</th>\n",
       "      <td>0.114777</td>\n",
       "      <td>0.001918</td>\n",
       "      <td>0.143577</td>\n",
       "      <td>1.000000</td>\n",
       "      <td>0.055610</td>\n",
       "      <td>0.187049</td>\n",
       "      <td>0.203028</td>\n",
       "      <td>0.355283</td>\n",
       "      <td>-0.085652</td>\n",
       "      <td>0.005527</td>\n",
       "      <td>0.042075</td>\n",
       "    </tr>\n",
       "    <tr>\n",
       "      <th>chlorides</th>\n",
       "      <td>0.093705</td>\n",
       "      <td>0.061298</td>\n",
       "      <td>0.203823</td>\n",
       "      <td>0.055610</td>\n",
       "      <td>1.000000</td>\n",
       "      <td>0.005562</td>\n",
       "      <td>0.047400</td>\n",
       "      <td>0.200632</td>\n",
       "      <td>-0.265026</td>\n",
       "      <td>0.371260</td>\n",
       "      <td>-0.221141</td>\n",
       "    </tr>\n",
       "    <tr>\n",
       "      <th>free sulfur dioxide</th>\n",
       "      <td>-0.153794</td>\n",
       "      <td>-0.010504</td>\n",
       "      <td>-0.060978</td>\n",
       "      <td>0.187049</td>\n",
       "      <td>0.005562</td>\n",
       "      <td>1.000000</td>\n",
       "      <td>0.667666</td>\n",
       "      <td>-0.021946</td>\n",
       "      <td>0.070377</td>\n",
       "      <td>0.051658</td>\n",
       "      <td>-0.069408</td>\n",
       "    </tr>\n",
       "    <tr>\n",
       "      <th>total sulfur dioxide</th>\n",
       "      <td>-0.113181</td>\n",
       "      <td>0.076470</td>\n",
       "      <td>0.035533</td>\n",
       "      <td>0.203028</td>\n",
       "      <td>0.047400</td>\n",
       "      <td>0.667666</td>\n",
       "      <td>1.000000</td>\n",
       "      <td>0.071269</td>\n",
       "      <td>-0.066495</td>\n",
       "      <td>0.042947</td>\n",
       "      <td>-0.205654</td>\n",
       "    </tr>\n",
       "    <tr>\n",
       "      <th>density</th>\n",
       "      <td>0.668047</td>\n",
       "      <td>0.022026</td>\n",
       "      <td>0.364947</td>\n",
       "      <td>0.355283</td>\n",
       "      <td>0.200632</td>\n",
       "      <td>-0.021946</td>\n",
       "      <td>0.071269</td>\n",
       "      <td>1.000000</td>\n",
       "      <td>-0.341699</td>\n",
       "      <td>0.148506</td>\n",
       "      <td>-0.496180</td>\n",
       "    </tr>\n",
       "    <tr>\n",
       "      <th>pH</th>\n",
       "      <td>-0.682978</td>\n",
       "      <td>0.234937</td>\n",
       "      <td>-0.541904</td>\n",
       "      <td>-0.085652</td>\n",
       "      <td>-0.265026</td>\n",
       "      <td>0.070377</td>\n",
       "      <td>-0.066495</td>\n",
       "      <td>-0.341699</td>\n",
       "      <td>1.000000</td>\n",
       "      <td>-0.196648</td>\n",
       "      <td>0.205633</td>\n",
       "    </tr>\n",
       "    <tr>\n",
       "      <th>sulphates</th>\n",
       "      <td>0.183006</td>\n",
       "      <td>-0.260987</td>\n",
       "      <td>0.312770</td>\n",
       "      <td>0.005527</td>\n",
       "      <td>0.371260</td>\n",
       "      <td>0.051658</td>\n",
       "      <td>0.042947</td>\n",
       "      <td>0.148506</td>\n",
       "      <td>-0.196648</td>\n",
       "      <td>1.000000</td>\n",
       "      <td>0.093595</td>\n",
       "    </tr>\n",
       "    <tr>\n",
       "      <th>alcohol</th>\n",
       "      <td>-0.061668</td>\n",
       "      <td>-0.202288</td>\n",
       "      <td>0.109903</td>\n",
       "      <td>0.042075</td>\n",
       "      <td>-0.221141</td>\n",
       "      <td>-0.069408</td>\n",
       "      <td>-0.205654</td>\n",
       "      <td>-0.496180</td>\n",
       "      <td>0.205633</td>\n",
       "      <td>0.093595</td>\n",
       "      <td>1.000000</td>\n",
       "    </tr>\n",
       "  </tbody>\n",
       "</table>\n",
       "</div>"
      ],
      "text/plain": [
       "                      fixed acidity  volatile acidity  citric acid  \\\n",
       "fixed acidity              1.000000         -0.256131     0.671703   \n",
       "volatile acidity          -0.256131          1.000000    -0.552496   \n",
       "citric acid                0.671703         -0.552496     1.000000   \n",
       "residual sugar             0.114777          0.001918     0.143577   \n",
       "chlorides                  0.093705          0.061298     0.203823   \n",
       "free sulfur dioxide       -0.153794         -0.010504    -0.060978   \n",
       "total sulfur dioxide      -0.113181          0.076470     0.035533   \n",
       "density                    0.668047          0.022026     0.364947   \n",
       "pH                        -0.682978          0.234937    -0.541904   \n",
       "sulphates                  0.183006         -0.260987     0.312770   \n",
       "alcohol                   -0.061668         -0.202288     0.109903   \n",
       "\n",
       "                      residual sugar  chlorides  free sulfur dioxide  \\\n",
       "fixed acidity               0.114777   0.093705            -0.153794   \n",
       "volatile acidity            0.001918   0.061298            -0.010504   \n",
       "citric acid                 0.143577   0.203823            -0.060978   \n",
       "residual sugar              1.000000   0.055610             0.187049   \n",
       "chlorides                   0.055610   1.000000             0.005562   \n",
       "free sulfur dioxide         0.187049   0.005562             1.000000   \n",
       "total sulfur dioxide        0.203028   0.047400             0.667666   \n",
       "density                     0.355283   0.200632            -0.021946   \n",
       "pH                         -0.085652  -0.265026             0.070377   \n",
       "sulphates                   0.005527   0.371260             0.051658   \n",
       "alcohol                     0.042075  -0.221141            -0.069408   \n",
       "\n",
       "                      total sulfur dioxide   density        pH  sulphates  \\\n",
       "fixed acidity                    -0.113181  0.668047 -0.682978   0.183006   \n",
       "volatile acidity                  0.076470  0.022026  0.234937  -0.260987   \n",
       "citric acid                       0.035533  0.364947 -0.541904   0.312770   \n",
       "residual sugar                    0.203028  0.355283 -0.085652   0.005527   \n",
       "chlorides                         0.047400  0.200632 -0.265026   0.371260   \n",
       "free sulfur dioxide               0.667666 -0.021946  0.070377   0.051658   \n",
       "total sulfur dioxide              1.000000  0.071269 -0.066495   0.042947   \n",
       "density                           0.071269  1.000000 -0.341699   0.148506   \n",
       "pH                               -0.066495 -0.341699  1.000000  -0.196648   \n",
       "sulphates                         0.042947  0.148506 -0.196648   1.000000   \n",
       "alcohol                          -0.205654 -0.496180  0.205633   0.093595   \n",
       "\n",
       "                       alcohol  \n",
       "fixed acidity        -0.061668  \n",
       "volatile acidity     -0.202288  \n",
       "citric acid           0.109903  \n",
       "residual sugar        0.042075  \n",
       "chlorides            -0.221141  \n",
       "free sulfur dioxide  -0.069408  \n",
       "total sulfur dioxide -0.205654  \n",
       "density              -0.496180  \n",
       "pH                    0.205633  \n",
       "sulphates             0.093595  \n",
       "alcohol               1.000000  "
      ]
     },
     "execution_count": 37,
     "metadata": {},
     "output_type": "execute_result"
    }
   ],
   "source": [
    "wine[['fixed acidity', 'volatile acidity', 'citric acid', 'residual sugar',\n",
    "       'chlorides', 'free sulfur dioxide', 'total sulfur dioxide', 'density',\n",
    "       'pH', 'sulphates', 'alcohol']].corr()"
   ]
  },
  {
   "cell_type": "markdown",
   "metadata": {},
   "source": [
    "Como se puede apreciar en la tabla de correlación se tiene que las variables más correlacionadas son:\n",
    "\n",
    "* fixed acidity - citric acid \n",
    "* fixed acidity - density\n",
    "* fixed acidity - pH\n",
    "* volatile acidity - citric acid\n",
    "* citric acid - pH\n",
    "* free sulfur dioxide - total sulfur dioxide"
   ]
  },
  {
   "cell_type": "markdown",
   "metadata": {},
   "source": [
    "## Limpieza"
   ]
  },
  {
   "cell_type": "code",
   "execution_count": 38,
   "metadata": {},
   "outputs": [],
   "source": [
    "def remove_out(df,variable):\n",
    "    \n",
    "    for i in variable:\n",
    "        p_25 = np.percentile(df[i], 25)\n",
    "        p_75 = np.percentile(df[i], 75)\n",
    "        df = df[(df[i]< (p_75 + (p_75 - p_25) * 1.5)) & (df[i]> (p_25 - (p_75 - p_25) * 1.5))]\n",
    "        \n",
    "    return df"
   ]
  },
  {
   "cell_type": "code",
   "execution_count": 39,
   "metadata": {},
   "outputs": [],
   "source": [
    "datos = remove_out(wine,['fixed acidity', 'volatile acidity', 'citric acid', 'residual sugar',\n",
    "       'chlorides', 'free sulfur dioxide', 'total sulfur dioxide', 'density',\n",
    "       'pH', 'sulphates', 'alcohol'])"
   ]
  },
  {
   "cell_type": "code",
   "execution_count": 40,
   "metadata": {},
   "outputs": [
    {
     "data": {
      "text/plain": [
       "(1135, 13)"
      ]
     },
     "execution_count": 40,
     "metadata": {},
     "output_type": "execute_result"
    }
   ],
   "source": [
    "datos.shape"
   ]
  },
  {
   "cell_type": "markdown",
   "metadata": {},
   "source": [
    "Removimos los datos extremos para todas las variables utilizando el método de Tuckey, eliminando 464 registros."
   ]
  },
  {
   "cell_type": "code",
   "execution_count": 41,
   "metadata": {},
   "outputs": [
    {
     "name": "stdout",
     "output_type": "stream",
     "text": [
      "Tabla de Valores\n",
      "0    524\n",
      "1    611\n",
      "Name: Calidad, dtype: int64\n",
      " \n",
      "Tabla de Porcentajes\n",
      "0    0.461674\n",
      "1    0.538326\n",
      "Name: Calidad, dtype: float64\n"
     ]
    }
   ],
   "source": [
    "print('Tabla de Valores')\n",
    "print(datos['Calidad'].value_counts(sort = False))\n",
    "print(' ')\n",
    "print('Tabla de Porcentajes')\n",
    "print(datos['Calidad'].value_counts(sort = False) / datos.shape[0])"
   ]
  },
  {
   "cell_type": "markdown",
   "metadata": {},
   "source": [
    "Los porcentajes de la variable respuesta se mantienen, por lo que la limpieza no alteró la base de manera significativa en este ámbito. "
   ]
  },
  {
   "cell_type": "markdown",
   "metadata": {},
   "source": [
    "## Base de entrenamiento y validación"
   ]
  },
  {
   "cell_type": "code",
   "execution_count": 42,
   "metadata": {},
   "outputs": [],
   "source": [
    "def particion(df, ptrain=0.7):\n",
    "    ptest=1-ptrain\n",
    "    particion = train_test_split(df.index, test_size = ptest)\n",
    "    train = df.loc[particion[0]]\n",
    "    test = df.loc[particion[1]]\n",
    "    \n",
    "    return train, test"
   ]
  },
  {
   "cell_type": "code",
   "execution_count": 43,
   "metadata": {},
   "outputs": [],
   "source": [
    "train, test = particion(datos)"
   ]
  },
  {
   "cell_type": "markdown",
   "metadata": {},
   "source": [
    "Exportamos las bases al momento de realizar la división de manera que no cambien los análisis realizados: "
   ]
  },
  {
   "cell_type": "code",
   "execution_count": 47,
   "metadata": {},
   "outputs": [],
   "source": [
    "#train.to_csv('train.csv', decimal = ',', sep=' ', encoding='utf-8')\n",
    "#test.to_csv('test.csv', decimal = ',', sep=' ', encoding='utf-8')"
   ]
  },
  {
   "cell_type": "code",
   "execution_count": 44,
   "metadata": {},
   "outputs": [],
   "source": [
    "wine_train = pd.read_table('train.csv', \n",
    "                          header = 0,\n",
    "                          sep = ' ',\n",
    "                          decimal = ',',\n",
    "                          index_col = 0)\n",
    "wine_test = pd.read_table('test.csv', \n",
    "                          header = 0,\n",
    "                          sep = ' ',\n",
    "                          decimal = ',',\n",
    "                          index_col = 0)"
   ]
  },
  {
   "cell_type": "code",
   "execution_count": 45,
   "metadata": {},
   "outputs": [],
   "source": [
    "wine_train.rename(columns = {'fixed acidity' : 'fixed_acidity',\n",
    "                                 'volatile acidity' : 'volatile_acidity',\n",
    "                                 'citric acid' : 'citric_acid',\n",
    "                                 'residual sugar' : 'residual_sugar',\n",
    "                                 'free sulfur dioxide' : 'free_sulfur_dioxide',\n",
    "                                'total sulfur dioxide' : 'total_sulfur_dioxide'}, inplace = True)"
   ]
  },
  {
   "cell_type": "code",
   "execution_count": 46,
   "metadata": {},
   "outputs": [],
   "source": [
    "wine_test.rename(columns = {'fixed acidity' : 'fixed_acidity',\n",
    "                                 'volatile acidity' : 'volatile_acidity',\n",
    "                                 'citric acid' : 'citric_acid',\n",
    "                                 'residual sugar' : 'residual_sugar',\n",
    "                                 'free sulfur dioxide' : 'free_sulfur_dioxide',\n",
    "                                'total sulfur dioxide' : 'total_sulfur_dioxide'}, inplace = True)"
   ]
  },
  {
   "cell_type": "markdown",
   "metadata": {},
   "source": [
    "## Modelos para Variables Influyentes"
   ]
  },
  {
   "cell_type": "markdown",
   "metadata": {},
   "source": [
    "## Ajuste de Modelos"
   ]
  },
  {
   "cell_type": "code",
   "execution_count": 65,
   "metadata": {},
   "outputs": [],
   "source": [
    "modelo_completo = \"\"\"Calidad ~ fixed_acidity + volatile_acidity + citric_acid + residual_sugar +\n",
    "                            chlorides + free_sulfur_dioxide + total_sulfur_dioxide + density + pH + sulphates + alcohol \"\"\"\n",
    "modelo_completo_si = \"\"\"Calidad ~ fixed_acidity + volatile_acidity + citric_acid + residual_sugar +\n",
    "                            chlorides + free_sulfur_dioxide + total_sulfur_dioxide + density + pH + sulphates + alcohol-1 \"\"\""
   ]
  },
  {
   "cell_type": "code",
   "execution_count": 113,
   "metadata": {},
   "outputs": [],
   "source": [
    "def Metricas_Modelo(mod, datatest, corte, y):\n",
    "    \n",
    "    results = mod.fit()\n",
    "    preds_test = results.predict(datatest)\n",
    "    roc = metrics.roc_curve(datatest[y], preds_test)\n",
    "    umbral = corte\n",
    "    preds_val = (preds_test >= umbral) * 1\n",
    "    M = metrics.confusion_matrix(datatest[y], preds_val)\n",
    "    tn, fp, fn, tp = M.ravel()\n",
    "    Accu = (tn+tp)/(tn+fn+tp+fp)\n",
    "    Pre = tp/(tp+fp)\n",
    "    Recall = tp/(tp+fn)\n",
    "    AUC = metrics.auc(roc[0], roc[1])\n",
    "    Brier = (1/(len(datatest[y])))*np.sum((preds_test-datatest[y]).transpose()*(preds_test-datatest[y]))\n",
    "    met = pd.DataFrame({'Accuracy': [Accu], 'Precition': [Pre],\n",
    "                        'Recall': [Recall], 'AUC': [AUC], 'Punto de Corte': [corte]}\n",
    "                       , index= ['Valor'],\n",
    "                      columns = ['Punto de Corte', 'Accuracy','Precition','Recall','AUC'])\n",
    "    \n",
    "    return met"
   ]
  },
  {
   "cell_type": "markdown",
   "metadata": {},
   "source": [
    "### 1) Regresión Logística"
   ]
  },
  {
   "cell_type": "code",
   "execution_count": 63,
   "metadata": {},
   "outputs": [
    {
     "name": "stdout",
     "output_type": "stream",
     "text": [
      "Optimization terminated successfully.\n",
      "         Current function value: 0.516858\n",
      "         Iterations 7\n"
     ]
    }
   ],
   "source": [
    "fit_0_Logit = smf.logit(formula = modelo_completo, data = wine_train)\n",
    "results_Logit_0 = fit_0_Logit.fit()"
   ]
  },
  {
   "cell_type": "code",
   "execution_count": 64,
   "metadata": {},
   "outputs": [
    {
     "data": {
      "text/html": [
       "<table class=\"simpletable\">\n",
       "<caption>Logit Regression Results</caption>\n",
       "<tr>\n",
       "  <th>Dep. Variable:</th>      <td>Calidad</td>     <th>  No. Observations:  </th>  <td>   794</td>  \n",
       "</tr>\n",
       "<tr>\n",
       "  <th>Model:</th>               <td>Logit</td>      <th>  Df Residuals:      </th>  <td>   782</td>  \n",
       "</tr>\n",
       "<tr>\n",
       "  <th>Method:</th>               <td>MLE</td>       <th>  Df Model:          </th>  <td>    11</td>  \n",
       "</tr>\n",
       "<tr>\n",
       "  <th>Date:</th>          <td>Wed, 27 Jun 2018</td> <th>  Pseudo R-squ.:     </th>  <td>0.2488</td>  \n",
       "</tr>\n",
       "<tr>\n",
       "  <th>Time:</th>              <td>22:05:28</td>     <th>  Log-Likelihood:    </th> <td> -410.39</td> \n",
       "</tr>\n",
       "<tr>\n",
       "  <th>converged:</th>           <td>True</td>       <th>  LL-Null:           </th> <td> -546.32</td> \n",
       "</tr>\n",
       "<tr>\n",
       "  <th> </th>                      <td> </td>        <th>  LLR p-value:       </th> <td>7.231e-52</td>\n",
       "</tr>\n",
       "</table>\n",
       "<table class=\"simpletable\">\n",
       "<tr>\n",
       "            <td></td>              <th>coef</th>     <th>std err</th>      <th>z</th>      <th>P>|z|</th>  <th>[0.025</th>    <th>0.975]</th>  \n",
       "</tr>\n",
       "<tr>\n",
       "  <th>Intercept</th>            <td>   37.3008</td> <td>  143.499</td> <td>    0.260</td> <td> 0.795</td> <td> -243.951</td> <td>  318.553</td>\n",
       "</tr>\n",
       "<tr>\n",
       "  <th>fixed_acidity</th>        <td>    0.1479</td> <td>    0.156</td> <td>    0.946</td> <td> 0.344</td> <td>   -0.158</td> <td>    0.454</td>\n",
       "</tr>\n",
       "<tr>\n",
       "  <th>volatile_acidity</th>     <td>   -3.3473</td> <td>    0.786</td> <td>   -4.258</td> <td> 0.000</td> <td>   -4.888</td> <td>   -1.807</td>\n",
       "</tr>\n",
       "<tr>\n",
       "  <th>citric_acid</th>          <td>   -2.4047</td> <td>    0.858</td> <td>   -2.802</td> <td> 0.005</td> <td>   -4.087</td> <td>   -0.722</td>\n",
       "</tr>\n",
       "<tr>\n",
       "  <th>residual_sugar</th>       <td>    0.1199</td> <td>    0.256</td> <td>    0.467</td> <td> 0.640</td> <td>   -0.383</td> <td>    0.622</td>\n",
       "</tr>\n",
       "<tr>\n",
       "  <th>chlorides</th>            <td>   -7.5383</td> <td>    7.172</td> <td>   -1.051</td> <td> 0.293</td> <td>  -21.596</td> <td>    6.520</td>\n",
       "</tr>\n",
       "<tr>\n",
       "  <th>free_sulfur_dioxide</th>  <td>    0.0044</td> <td>    0.014</td> <td>    0.318</td> <td> 0.751</td> <td>   -0.023</td> <td>    0.032</td>\n",
       "</tr>\n",
       "<tr>\n",
       "  <th>total_sulfur_dioxide</th> <td>   -0.0078</td> <td>    0.005</td> <td>   -1.477</td> <td> 0.140</td> <td>   -0.018</td> <td>    0.003</td>\n",
       "</tr>\n",
       "<tr>\n",
       "  <th>density</th>              <td>  -43.1695</td> <td>  146.167</td> <td>   -0.295</td> <td> 0.768</td> <td> -329.651</td> <td>  243.312</td>\n",
       "</tr>\n",
       "<tr>\n",
       "  <th>pH</th>                   <td>   -1.6148</td> <td>    1.162</td> <td>   -1.390</td> <td> 0.165</td> <td>   -3.892</td> <td>    0.663</td>\n",
       "</tr>\n",
       "<tr>\n",
       "  <th>sulphates</th>            <td>    5.7496</td> <td>    0.941</td> <td>    6.112</td> <td> 0.000</td> <td>    3.906</td> <td>    7.593</td>\n",
       "</tr>\n",
       "<tr>\n",
       "  <th>alcohol</th>              <td>    0.9174</td> <td>    0.184</td> <td>    4.996</td> <td> 0.000</td> <td>    0.557</td> <td>    1.277</td>\n",
       "</tr>\n",
       "</table>"
      ],
      "text/plain": [
       "<class 'statsmodels.iolib.summary.Summary'>\n",
       "\"\"\"\n",
       "                           Logit Regression Results                           \n",
       "==============================================================================\n",
       "Dep. Variable:                Calidad   No. Observations:                  794\n",
       "Model:                          Logit   Df Residuals:                      782\n",
       "Method:                           MLE   Df Model:                           11\n",
       "Date:                Wed, 27 Jun 2018   Pseudo R-squ.:                  0.2488\n",
       "Time:                        22:05:28   Log-Likelihood:                -410.39\n",
       "converged:                       True   LL-Null:                       -546.32\n",
       "                                        LLR p-value:                 7.231e-52\n",
       "========================================================================================\n",
       "                           coef    std err          z      P>|z|      [0.025      0.975]\n",
       "----------------------------------------------------------------------------------------\n",
       "Intercept               37.3008    143.499      0.260      0.795    -243.951     318.553\n",
       "fixed_acidity            0.1479      0.156      0.946      0.344      -0.158       0.454\n",
       "volatile_acidity        -3.3473      0.786     -4.258      0.000      -4.888      -1.807\n",
       "citric_acid             -2.4047      0.858     -2.802      0.005      -4.087      -0.722\n",
       "residual_sugar           0.1199      0.256      0.467      0.640      -0.383       0.622\n",
       "chlorides               -7.5383      7.172     -1.051      0.293     -21.596       6.520\n",
       "free_sulfur_dioxide      0.0044      0.014      0.318      0.751      -0.023       0.032\n",
       "total_sulfur_dioxide    -0.0078      0.005     -1.477      0.140      -0.018       0.003\n",
       "density                -43.1695    146.167     -0.295      0.768    -329.651     243.312\n",
       "pH                      -1.6148      1.162     -1.390      0.165      -3.892       0.663\n",
       "sulphates                5.7496      0.941      6.112      0.000       3.906       7.593\n",
       "alcohol                  0.9174      0.184      4.996      0.000       0.557       1.277\n",
       "========================================================================================\n",
       "\"\"\""
      ]
     },
     "execution_count": 64,
     "metadata": {},
     "output_type": "execute_result"
    }
   ],
   "source": [
    "results_Logit_0.summary()"
   ]
  },
  {
   "cell_type": "markdown",
   "metadata": {},
   "source": [
    "Al ajustar el modelo completo con la regresión logística se tiene que hay siete variables en la cuales el intervalos de confianza contiene el 0 y el valor p es mayor a 0.05  por lo que no serían significativas para el modelo. Para ver que variables son realmente significativas se utilizara la selección por Método Lasso."
   ]
  },
  {
   "cell_type": "code",
   "execution_count": 66,
   "metadata": {},
   "outputs": [
    {
     "name": "stdout",
     "output_type": "stream",
     "text": [
      "Optimization terminated successfully.    (Exit mode 0)\n",
      "            Current function value: 0.5366965981525935\n",
      "            Iterations: 89\n",
      "            Function evaluations: 94\n",
      "            Gradient evaluations: 89\n"
     ]
    }
   ],
   "source": [
    "fit_selec_Logit = smf.logit(formula = modelo_completo_si, data = wine_train)\n",
    "result_selec_Logit = fit_selec_Logit.fit_regularized(method = 'l1', alpha = 1) "
   ]
  },
  {
   "cell_type": "code",
   "execution_count": 68,
   "metadata": {
    "scrolled": true
   },
   "outputs": [
    {
     "data": {
      "text/plain": [
       "fixed_acidity          -0.052790\n",
       "volatile_acidity       -2.586325\n",
       "citric_acid            -1.111462\n",
       "residual_sugar          0.013675\n",
       "chlorides               0.000000\n",
       "free_sulfur_dioxide     0.013781\n",
       "total_sulfur_dioxide   -0.012495\n",
       "density                 0.000000\n",
       "pH                     -2.884978\n",
       "sulphates               4.750974\n",
       "alcohol                 0.890453\n",
       "dtype: float64"
      ]
     },
     "execution_count": 68,
     "metadata": {},
     "output_type": "execute_result"
    }
   ],
   "source": [
    "result_selec_Logit.params"
   ]
  },
  {
   "cell_type": "markdown",
   "metadata": {},
   "source": [
    "Como podemos apreciar las variables que son significativas en este caso son: \n",
    "\n",
    "* **acidez fija**\n",
    "* **acidez volátil**\n",
    "* **ácido cítrico**\n",
    "* **azúcar residual**\n",
    "* **dióxido de sulfuro libre**\n",
    "* **dióxido de azufre total**\n",
    "* **pH**\n",
    "* **sulfatos**\n",
    "* **alcohol**\n",
    "\n",
    "Sin embargo, se tiene que los betas de algunas variables se pueden considerar muy cercanos a 0, por lo que si quitamos esas variables nos quedamos con las siguientes variables:\n",
    "\n",
    "* **acidez volátil**\n",
    "* **ácido cítrico**\n",
    "* **pH**\n",
    "* **sulfatos**\n",
    "* **alcohol**\n",
    "\n",
    "Por lo tanto nos quedan los dos modelos que siguen:"
   ]
  },
  {
   "cell_type": "code",
   "execution_count": 138,
   "metadata": {},
   "outputs": [],
   "source": [
    "modelo_final_Logit_1= \"\"\"Calidad ~ fixed_acidity + volatile_acidity + citric_acid + residual_sugar \n",
    "                             + free_sulfur_dioxide + total_sulfur_dioxide + pH + sulphates + alcohol \"\"\"\n",
    "modelo_final_Logit_2= \"\"\"Calidad ~ volatile_acidity + citric_acid + pH + sulphates + alcohol \"\"\""
   ]
  },
  {
   "cell_type": "code",
   "execution_count": 139,
   "metadata": {},
   "outputs": [
    {
     "name": "stdout",
     "output_type": "stream",
     "text": [
      "Optimization terminated successfully.\n",
      "         Current function value: 0.517708\n",
      "         Iterations 6\n"
     ]
    }
   ],
   "source": [
    "fit_1_Logit = smf.logit(formula = modelo_final_Logit_1, data = wine_train)\n",
    "results_Logit_1 = fit_1_Logit.fit()"
   ]
  },
  {
   "cell_type": "code",
   "execution_count": 140,
   "metadata": {
    "scrolled": false
   },
   "outputs": [
    {
     "data": {
      "text/html": [
       "<table class=\"simpletable\">\n",
       "<caption>Logit Regression Results</caption>\n",
       "<tr>\n",
       "  <th>Dep. Variable:</th>      <td>Calidad</td>     <th>  No. Observations:  </th>  <td>   794</td>  \n",
       "</tr>\n",
       "<tr>\n",
       "  <th>Model:</th>               <td>Logit</td>      <th>  Df Residuals:      </th>  <td>   784</td>  \n",
       "</tr>\n",
       "<tr>\n",
       "  <th>Method:</th>               <td>MLE</td>       <th>  Df Model:          </th>  <td>     9</td>  \n",
       "</tr>\n",
       "<tr>\n",
       "  <th>Date:</th>          <td>Wed, 27 Jun 2018</td> <th>  Pseudo R-squ.:     </th>  <td>0.2476</td>  \n",
       "</tr>\n",
       "<tr>\n",
       "  <th>Time:</th>              <td>22:44:10</td>     <th>  Log-Likelihood:    </th> <td> -411.06</td> \n",
       "</tr>\n",
       "<tr>\n",
       "  <th>converged:</th>           <td>True</td>       <th>  LL-Null:           </th> <td> -546.32</td> \n",
       "</tr>\n",
       "<tr>\n",
       "  <th> </th>                      <td> </td>        <th>  LLR p-value:       </th> <td>4.586e-53</td>\n",
       "</tr>\n",
       "</table>\n",
       "<table class=\"simpletable\">\n",
       "<tr>\n",
       "            <td></td>              <th>coef</th>     <th>std err</th>      <th>z</th>      <th>P>|z|</th>  <th>[0.025</th>    <th>0.975]</th>  \n",
       "</tr>\n",
       "<tr>\n",
       "  <th>Intercept</th>            <td>   -5.7583</td> <td>    3.753</td> <td>   -1.534</td> <td> 0.125</td> <td>  -13.114</td> <td>    1.597</td>\n",
       "</tr>\n",
       "<tr>\n",
       "  <th>fixed_acidity</th>        <td>    0.1035</td> <td>    0.105</td> <td>    0.987</td> <td> 0.324</td> <td>   -0.102</td> <td>    0.309</td>\n",
       "</tr>\n",
       "<tr>\n",
       "  <th>volatile_acidity</th>     <td>   -3.4098</td> <td>    0.777</td> <td>   -4.389</td> <td> 0.000</td> <td>   -4.933</td> <td>   -1.887</td>\n",
       "</tr>\n",
       "<tr>\n",
       "  <th>citric_acid</th>          <td>   -2.3971</td> <td>    0.852</td> <td>   -2.812</td> <td> 0.005</td> <td>   -4.068</td> <td>   -0.726</td>\n",
       "</tr>\n",
       "<tr>\n",
       "  <th>residual_sugar</th>       <td>    0.0247</td> <td>    0.206</td> <td>    0.120</td> <td> 0.905</td> <td>   -0.380</td> <td>    0.429</td>\n",
       "</tr>\n",
       "<tr>\n",
       "  <th>free_sulfur_dioxide</th>  <td>    0.0059</td> <td>    0.014</td> <td>    0.431</td> <td> 0.667</td> <td>   -0.021</td> <td>    0.033</td>\n",
       "</tr>\n",
       "<tr>\n",
       "  <th>total_sulfur_dioxide</th> <td>   -0.0087</td> <td>    0.005</td> <td>   -1.668</td> <td> 0.095</td> <td>   -0.019</td> <td>    0.002</td>\n",
       "</tr>\n",
       "<tr>\n",
       "  <th>pH</th>                   <td>   -1.7741</td> <td>    0.975</td> <td>   -1.820</td> <td> 0.069</td> <td>   -3.685</td> <td>    0.136</td>\n",
       "</tr>\n",
       "<tr>\n",
       "  <th>sulphates</th>            <td>    5.6371</td> <td>    0.911</td> <td>    6.190</td> <td> 0.000</td> <td>    3.852</td> <td>    7.422</td>\n",
       "</tr>\n",
       "<tr>\n",
       "  <th>alcohol</th>              <td>    0.9807</td> <td>    0.117</td> <td>    8.353</td> <td> 0.000</td> <td>    0.751</td> <td>    1.211</td>\n",
       "</tr>\n",
       "</table>"
      ],
      "text/plain": [
       "<class 'statsmodels.iolib.summary.Summary'>\n",
       "\"\"\"\n",
       "                           Logit Regression Results                           \n",
       "==============================================================================\n",
       "Dep. Variable:                Calidad   No. Observations:                  794\n",
       "Model:                          Logit   Df Residuals:                      784\n",
       "Method:                           MLE   Df Model:                            9\n",
       "Date:                Wed, 27 Jun 2018   Pseudo R-squ.:                  0.2476\n",
       "Time:                        22:44:10   Log-Likelihood:                -411.06\n",
       "converged:                       True   LL-Null:                       -546.32\n",
       "                                        LLR p-value:                 4.586e-53\n",
       "========================================================================================\n",
       "                           coef    std err          z      P>|z|      [0.025      0.975]\n",
       "----------------------------------------------------------------------------------------\n",
       "Intercept               -5.7583      3.753     -1.534      0.125     -13.114       1.597\n",
       "fixed_acidity            0.1035      0.105      0.987      0.324      -0.102       0.309\n",
       "volatile_acidity        -3.4098      0.777     -4.389      0.000      -4.933      -1.887\n",
       "citric_acid             -2.3971      0.852     -2.812      0.005      -4.068      -0.726\n",
       "residual_sugar           0.0247      0.206      0.120      0.905      -0.380       0.429\n",
       "free_sulfur_dioxide      0.0059      0.014      0.431      0.667      -0.021       0.033\n",
       "total_sulfur_dioxide    -0.0087      0.005     -1.668      0.095      -0.019       0.002\n",
       "pH                      -1.7741      0.975     -1.820      0.069      -3.685       0.136\n",
       "sulphates                5.6371      0.911      6.190      0.000       3.852       7.422\n",
       "alcohol                  0.9807      0.117      8.353      0.000       0.751       1.211\n",
       "========================================================================================\n",
       "\"\"\""
      ]
     },
     "execution_count": 140,
     "metadata": {},
     "output_type": "execute_result"
    }
   ],
   "source": [
    "results_Logit_1.summary()"
   ]
  },
  {
   "cell_type": "code",
   "execution_count": 141,
   "metadata": {},
   "outputs": [
    {
     "name": "stdout",
     "output_type": "stream",
     "text": [
      "Optimization terminated successfully.\n",
      "         Current function value: 0.521436\n",
      "         Iterations 6\n"
     ]
    }
   ],
   "source": [
    "fit_2_Logit = smf.logit(formula = modelo_final_Logit_2, data = wine_train)\n",
    "results_Logit_2 = fit_2_Logit.fit()"
   ]
  },
  {
   "cell_type": "code",
   "execution_count": 142,
   "metadata": {},
   "outputs": [
    {
     "data": {
      "text/html": [
       "<table class=\"simpletable\">\n",
       "<caption>Logit Regression Results</caption>\n",
       "<tr>\n",
       "  <th>Dep. Variable:</th>      <td>Calidad</td>     <th>  No. Observations:  </th>  <td>   794</td>  \n",
       "</tr>\n",
       "<tr>\n",
       "  <th>Model:</th>               <td>Logit</td>      <th>  Df Residuals:      </th>  <td>   788</td>  \n",
       "</tr>\n",
       "<tr>\n",
       "  <th>Method:</th>               <td>MLE</td>       <th>  Df Model:          </th>  <td>     5</td>  \n",
       "</tr>\n",
       "<tr>\n",
       "  <th>Date:</th>          <td>Wed, 27 Jun 2018</td> <th>  Pseudo R-squ.:     </th>  <td>0.2422</td>  \n",
       "</tr>\n",
       "<tr>\n",
       "  <th>Time:</th>              <td>22:44:17</td>     <th>  Log-Likelihood:    </th> <td> -414.02</td> \n",
       "</tr>\n",
       "<tr>\n",
       "  <th>converged:</th>           <td>True</td>       <th>  LL-Null:           </th> <td> -546.32</td> \n",
       "</tr>\n",
       "<tr>\n",
       "  <th> </th>                      <td> </td>        <th>  LLR p-value:       </th> <td>4.036e-55</td>\n",
       "</tr>\n",
       "</table>\n",
       "<table class=\"simpletable\">\n",
       "<tr>\n",
       "          <td></td>            <th>coef</th>     <th>std err</th>      <th>z</th>      <th>P>|z|</th>  <th>[0.025</th>    <th>0.975]</th>  \n",
       "</tr>\n",
       "<tr>\n",
       "  <th>Intercept</th>        <td>   -3.7379</td> <td>    2.726</td> <td>   -1.371</td> <td> 0.170</td> <td>   -9.080</td> <td>    1.604</td>\n",
       "</tr>\n",
       "<tr>\n",
       "  <th>volatile_acidity</th> <td>   -3.3452</td> <td>    0.727</td> <td>   -4.600</td> <td> 0.000</td> <td>   -4.771</td> <td>   -1.920</td>\n",
       "</tr>\n",
       "<tr>\n",
       "  <th>citric_acid</th>      <td>   -2.1511</td> <td>    0.685</td> <td>   -3.143</td> <td> 0.002</td> <td>   -3.493</td> <td>   -0.810</td>\n",
       "</tr>\n",
       "<tr>\n",
       "  <th>pH</th>               <td>   -2.4486</td> <td>    0.778</td> <td>   -3.148</td> <td> 0.002</td> <td>   -3.973</td> <td>   -0.924</td>\n",
       "</tr>\n",
       "<tr>\n",
       "  <th>sulphates</th>        <td>    5.7362</td> <td>    0.898</td> <td>    6.388</td> <td> 0.000</td> <td>    3.976</td> <td>    7.496</td>\n",
       "</tr>\n",
       "<tr>\n",
       "  <th>alcohol</th>          <td>    1.0487</td> <td>    0.111</td> <td>    9.435</td> <td> 0.000</td> <td>    0.831</td> <td>    1.267</td>\n",
       "</tr>\n",
       "</table>"
      ],
      "text/plain": [
       "<class 'statsmodels.iolib.summary.Summary'>\n",
       "\"\"\"\n",
       "                           Logit Regression Results                           \n",
       "==============================================================================\n",
       "Dep. Variable:                Calidad   No. Observations:                  794\n",
       "Model:                          Logit   Df Residuals:                      788\n",
       "Method:                           MLE   Df Model:                            5\n",
       "Date:                Wed, 27 Jun 2018   Pseudo R-squ.:                  0.2422\n",
       "Time:                        22:44:17   Log-Likelihood:                -414.02\n",
       "converged:                       True   LL-Null:                       -546.32\n",
       "                                        LLR p-value:                 4.036e-55\n",
       "====================================================================================\n",
       "                       coef    std err          z      P>|z|      [0.025      0.975]\n",
       "------------------------------------------------------------------------------------\n",
       "Intercept           -3.7379      2.726     -1.371      0.170      -9.080       1.604\n",
       "volatile_acidity    -3.3452      0.727     -4.600      0.000      -4.771      -1.920\n",
       "citric_acid         -2.1511      0.685     -3.143      0.002      -3.493      -0.810\n",
       "pH                  -2.4486      0.778     -3.148      0.002      -3.973      -0.924\n",
       "sulphates            5.7362      0.898      6.388      0.000       3.976       7.496\n",
       "alcohol              1.0487      0.111      9.435      0.000       0.831       1.267\n",
       "====================================================================================\n",
       "\"\"\""
      ]
     },
     "execution_count": 142,
     "metadata": {},
     "output_type": "execute_result"
    }
   ],
   "source": [
    "results_Logit_2.summary()"
   ]
  },
  {
   "cell_type": "markdown",
   "metadata": {},
   "source": [
    "## Predicción"
   ]
  },
  {
   "cell_type": "code",
   "execution_count": 143,
   "metadata": {
    "scrolled": true
   },
   "outputs": [
    {
     "name": "stdout",
     "output_type": "stream",
     "text": [
      "Optimization terminated successfully.\n",
      "         Current function value: 0.517708\n",
      "         Iterations 6\n"
     ]
    },
    {
     "data": {
      "text/html": [
       "<div>\n",
       "<style scoped>\n",
       "    .dataframe tbody tr th:only-of-type {\n",
       "        vertical-align: middle;\n",
       "    }\n",
       "\n",
       "    .dataframe tbody tr th {\n",
       "        vertical-align: top;\n",
       "    }\n",
       "\n",
       "    .dataframe thead th {\n",
       "        text-align: right;\n",
       "    }\n",
       "</style>\n",
       "<table border=\"1\" class=\"dataframe\">\n",
       "  <thead>\n",
       "    <tr style=\"text-align: right;\">\n",
       "      <th></th>\n",
       "      <th>Punto de Corte</th>\n",
       "      <th>Accuracy</th>\n",
       "      <th>Precition</th>\n",
       "      <th>Recall</th>\n",
       "      <th>AUC</th>\n",
       "    </tr>\n",
       "  </thead>\n",
       "  <tbody>\n",
       "    <tr>\n",
       "      <th>Valor</th>\n",
       "      <td>0.5</td>\n",
       "      <td>0.747801</td>\n",
       "      <td>0.761905</td>\n",
       "      <td>0.735632</td>\n",
       "      <td>0.818054</td>\n",
       "    </tr>\n",
       "  </tbody>\n",
       "</table>\n",
       "</div>"
      ],
      "text/plain": [
       "       Punto de Corte  Accuracy  Precition    Recall       AUC\n",
       "Valor             0.5  0.747801   0.761905  0.735632  0.818054"
      ]
     },
     "execution_count": 143,
     "metadata": {},
     "output_type": "execute_result"
    }
   ],
   "source": [
    "Metricas_Modelo(fit_1_Logit, wine_test, 0.5, 'Calidad')"
   ]
  },
  {
   "cell_type": "code",
   "execution_count": 144,
   "metadata": {},
   "outputs": [],
   "source": [
    "preds_test_Logit_1 = results_Logit_1.predict(wine_test)"
   ]
  },
  {
   "cell_type": "code",
   "execution_count": 145,
   "metadata": {},
   "outputs": [],
   "source": [
    "roc_Logit_1 = metrics.roc_curve(wine_test['Calidad'], preds_test_Logit_1)"
   ]
  },
  {
   "cell_type": "code",
   "execution_count": 160,
   "metadata": {},
   "outputs": [
    {
     "data": {
      "image/png": "[encoded data removed]",
      "text/plain": [
       "<matplotlib.figure.Figure at 0x1e056545da0>"
      ]
     },
     "metadata": {},
     "output_type": "display_data"
    }
   ],
   "source": [
    "plt.plot(roc_Logit_1[0], roc_Logit_1[1], label = 'Logística Modelo 1', color = 'blue')\n",
    "plt.plot([0,1], [0,1], 'r--', color = 'red')\n",
    "plt.xlim([-0.01, 1.01])\n",
    "plt.ylim([0.0, 1.01])\n",
    "plt.xlabel('False Positive Rate')\n",
    "plt.ylabel('True Positive Rate')\n",
    "plt.title('Curva ROC Logística Modelo 1       (AUC = ' +str(np.round(metrics.auc(roc_Logit_1[0], roc_Logit_1[1]), 4))+')' )\n",
    "plt.legend(loc=\"lower right\")\n",
    "plt.show()"
   ]
  },
  {
   "cell_type": "code",
   "execution_count": 147,
   "metadata": {
    "scrolled": false
   },
   "outputs": [
    {
     "name": "stdout",
     "output_type": "stream",
     "text": [
      "Optimization terminated successfully.\n",
      "         Current function value: 0.521436\n",
      "         Iterations 6\n"
     ]
    },
    {
     "data": {
      "text/html": [
       "<div>\n",
       "<style scoped>\n",
       "    .dataframe tbody tr th:only-of-type {\n",
       "        vertical-align: middle;\n",
       "    }\n",
       "\n",
       "    .dataframe tbody tr th {\n",
       "        vertical-align: top;\n",
       "    }\n",
       "\n",
       "    .dataframe thead th {\n",
       "        text-align: right;\n",
       "    }\n",
       "</style>\n",
       "<table border=\"1\" class=\"dataframe\">\n",
       "  <thead>\n",
       "    <tr style=\"text-align: right;\">\n",
       "      <th></th>\n",
       "      <th>Punto de Corte</th>\n",
       "      <th>Accuracy</th>\n",
       "      <th>Precition</th>\n",
       "      <th>Recall</th>\n",
       "      <th>AUC</th>\n",
       "    </tr>\n",
       "  </thead>\n",
       "  <tbody>\n",
       "    <tr>\n",
       "      <th>Valor</th>\n",
       "      <td>0.5</td>\n",
       "      <td>0.756598</td>\n",
       "      <td>0.775758</td>\n",
       "      <td>0.735632</td>\n",
       "      <td>0.817331</td>\n",
       "    </tr>\n",
       "  </tbody>\n",
       "</table>\n",
       "</div>"
      ],
      "text/plain": [
       "       Punto de Corte  Accuracy  Precition    Recall       AUC\n",
       "Valor             0.5  0.756598   0.775758  0.735632  0.817331"
      ]
     },
     "execution_count": 147,
     "metadata": {},
     "output_type": "execute_result"
    }
   ],
   "source": [
    "Metricas_Modelo(fit_2_Logit, wine_test, 0.5, 'Calidad')"
   ]
  },
  {
   "cell_type": "code",
   "execution_count": 148,
   "metadata": {},
   "outputs": [],
   "source": [
    "preds_test_Logit_2 = results_Logit_2.predict(wine_test)"
   ]
  },
  {
   "cell_type": "code",
   "execution_count": 149,
   "metadata": {},
   "outputs": [],
   "source": [
    "roc_Logit_2 = metrics.roc_curve(wine_test['Calidad'], preds_test_Logit_2)"
   ]
  },
  {
   "cell_type": "code",
   "execution_count": 161,
   "metadata": {
    "scrolled": true
   },
   "outputs": [
    {
     "data": {
      "image/png": "[encoded data removed]",
      "text/plain": [
       "<matplotlib.figure.Figure at 0x1e056223780>"
      ]
     },
     "metadata": {},
     "output_type": "display_data"
    }
   ],
   "source": [
    "plt.plot(roc_Logit_2[0], roc_Logit_2[1], label = 'Logística Modelo 2', color = 'blue')\n",
    "plt.plot([0,1], [0,1], 'r--', color = 'red')\n",
    "plt.xlim([-0.01, 1.01])\n",
    "plt.ylim([0.0, 1.01])\n",
    "plt.xlabel('False Positive Rate')\n",
    "plt.ylabel('True Positive Rate')\n",
    "plt.title('Curva ROC Logística Modelo 2       (AUC = ' +str(np.round(metrics.auc(roc_Logit_2[0], roc_Logit_2[1]), 4))+')' )\n",
    "plt.legend(loc=\"lower right\")\n",
    "plt.show()"
   ]
  },
  {
   "cell_type": "markdown",
   "metadata": {},
   "source": [
    "### 2) Random Forest"
   ]
  },
  {
   "cell_type": "code",
   "execution_count": 185,
   "metadata": {},
   "outputs": [],
   "source": [
    "ytr1, Xtr1 = patsy.dmatrices(\"\"\"Calidad ~ fixed_acidity + volatile_acidity + citric_acid + residual_sugar +\n",
    "                            chlorides + free_sulfur_dioxide + total_sulfur_dioxide + density + pH + sulphates + alcohol-1\"\"\",\n",
    "                           data = wine_train)\n",
    "\n",
    "yte1, Xte1 = patsy.dmatrices(\"\"\"Calidad ~ fixed_acidity + volatile_acidity + citric_acid + residual_sugar +\n",
    "                            chlorides + free_sulfur_dioxide + total_sulfur_dioxide + density + pH + sulphates + alcohol-1\"\"\",\n",
    "                           data = wine_test)"
   ]
  },
  {
   "cell_type": "code",
   "execution_count": 186,
   "metadata": {},
   "outputs": [],
   "source": [
    "fit_rf_1 = RandomForestClassifier(n_estimators = 100)\n",
    "fit_rf_1 = fit_rf_1.fit(Xtr1, np.ravel(ytr1))\n",
    "preds_rf_1 = fit_rf_1.predict_proba(Xte1)"
   ]
  },
  {
   "cell_type": "code",
   "execution_count": 187,
   "metadata": {},
   "outputs": [
    {
     "data": {
      "text/plain": [
       "array([0.06788296, 0.10857436, 0.07108561, 0.0588802 , 0.08167584,\n",
       "       0.05518593, 0.08360343, 0.09985823, 0.06303591, 0.13112298,\n",
       "       0.17909455])"
      ]
     },
     "execution_count": 187,
     "metadata": {},
     "output_type": "execute_result"
    }
   ],
   "source": [
    "fit_rf_1.feature_importances_"
   ]
  },
  {
   "cell_type": "markdown",
   "metadata": {},
   "source": [
    "**Variables:**  'fixed_acidity', 'volatile_acidity', 'citric_acid', 'residual_sugar', 'chlorides', 'free_sulfur_dioxide',\n",
    "'total_sulfur_dioxide', 'density', 'pH', 'sulphates', 'alcohol'.\n"
   ]
  },
  {
   "cell_type": "markdown",
   "metadata": {},
   "source": [
    "Como podemos apreciar las variables con mayor importancia son el alcohol, los sulfatos y la acidez volátil."
   ]
  },
  {
   "cell_type": "code",
   "execution_count": 188,
   "metadata": {},
   "outputs": [
    {
     "data": {
      "text/html": [
       "<div>\n",
       "<style scoped>\n",
       "    .dataframe tbody tr th:only-of-type {\n",
       "        vertical-align: middle;\n",
       "    }\n",
       "\n",
       "    .dataframe tbody tr th {\n",
       "        vertical-align: top;\n",
       "    }\n",
       "\n",
       "    .dataframe thead th {\n",
       "        text-align: right;\n",
       "    }\n",
       "</style>\n",
       "<table border=\"1\" class=\"dataframe\">\n",
       "  <thead>\n",
       "    <tr style=\"text-align: right;\">\n",
       "      <th></th>\n",
       "      <th>Punto de Corte</th>\n",
       "      <th>Accuracy</th>\n",
       "      <th>Precition</th>\n",
       "      <th>Recall</th>\n",
       "      <th>AUC</th>\n",
       "    </tr>\n",
       "  </thead>\n",
       "  <tbody>\n",
       "    <tr>\n",
       "      <th>Valor</th>\n",
       "      <td>0.5</td>\n",
       "      <td>0.803519</td>\n",
       "      <td>0.79235</td>\n",
       "      <td>0.833333</td>\n",
       "      <td>0.897945</td>\n",
       "    </tr>\n",
       "  </tbody>\n",
       "</table>\n",
       "</div>"
      ],
      "text/plain": [
       "       Punto de Corte  Accuracy  Precition    Recall       AUC\n",
       "Valor             0.5  0.803519    0.79235  0.833333  0.897945"
      ]
     },
     "execution_count": 188,
     "metadata": {},
     "output_type": "execute_result"
    }
   ],
   "source": [
    "roc1 = metrics.roc_curve(wine_test['Calidad'], preds_rf_1[:,1])\n",
    "umbral1 = 0.5\n",
    "preds_val1 = (preds_rf_1[:,1] >= umbral1) * 1\n",
    "M1 = metrics.confusion_matrix(wine_test['Calidad'], preds_val1)\n",
    "tn1, fp1, fn1, tp1 = M1.ravel()\n",
    "Accu1 = (tn1+tp1)/(tn1+fn1+tp1+fp1)\n",
    "Pre1 = tp1/(tp1+fp1)\n",
    "Recall1 = tp1/(tp1+fn1)\n",
    "AUC1 = metrics.auc(roc1[0], roc1[1])\n",
    "met1 = pd.DataFrame({'Accuracy': [Accu1], 'Precition': [Pre1],\n",
    "                        'Recall': [Recall1], 'AUC': [AUC1], 'Punto de Corte': [umbral1]}\n",
    "                       , index= ['Valor'],\n",
    "                      columns = ['Punto de Corte', 'Accuracy','Precition','Recall','AUC'])\n",
    "met1"
   ]
  },
  {
   "cell_type": "code",
   "execution_count": 190,
   "metadata": {},
   "outputs": [],
   "source": [
    "roc_rf_1 = metrics.roc_curve(wine_test['Calidad'], preds_rf_1[:,1])"
   ]
  },
  {
   "cell_type": "code",
   "execution_count": 191,
   "metadata": {},
   "outputs": [
    {
     "data": {
      "image/png": "[encoded data removed]",
      "text/plain": [
       "<matplotlib.figure.Figure at 0x1e05796e588>"
      ]
     },
     "metadata": {},
     "output_type": "display_data"
    }
   ],
   "source": [
    "plt.plot(roc_rf_1[0], roc_rf_1[1], label = 'Random Forest', color = 'blue')\n",
    "plt.plot([0,1], [0,1], 'r--', color = 'red')\n",
    "plt.xlim([-0.01, 1.01])\n",
    "plt.ylim([0.0, 1.01])\n",
    "plt.xlabel('False Positive Rate')\n",
    "plt.ylabel('True Positive Rate')\n",
    "plt.title('Curva ROC Random Forest       (AUC = ' +str(np.round(metrics.auc(roc_rf_1[0], roc_rf_1[1]), 4))+')' )\n",
    "plt.legend(loc=\"lower right\")\n",
    "plt.show()"
   ]
  },
  {
   "cell_type": "markdown",
   "metadata": {},
   "source": [
    "### 3) Logistic GAM"
   ]
  },
  {
   "cell_type": "code",
   "execution_count": 194,
   "metadata": {},
   "outputs": [
    {
     "name": "stdout",
     "output_type": "stream",
     "text": [
      "LogisticGAM                                                                                               \n",
      "=============================================== ==========================================================\n",
      "Distribution:                      BinomialDist Effective DoF:                                    110.5042\n",
      "Link Function:                        LogitLink Log Likelihood:                                  -306.5721\n",
      "Number of Samples:                          794 AIC:                                              834.1526\n",
      "                                                AICc:                                             870.9678\n",
      "                                                UBRE:                                               3.1619\n",
      "                                                Scale:                                                 1.0\n",
      "                                                Pseudo R-Squared:                                   0.4388\n",
      "==========================================================================================================\n",
      "Feature Function   Data Type      Num Splines   Spline Order  Linear Fit  Lambda     P > x      Sig. Code \n",
      "================== ============== ============= ============= =========== ========== ========== ==========\n",
      "feature 1          numerical      25            3             False       0.6        9.11e-02   .         \n",
      "feature 2          numerical      25            3             False       0.6        3.00e-05   ***       \n",
      "feature 3          numerical      25            3             False       0.6        2.11e-01             \n",
      "feature 4          numerical      25            3             False       0.6        2.40e-01             \n",
      "feature 5          numerical      25            3             False       0.6        1.21e-03   **        \n",
      "feature 6          numerical      25            3             False       0.6        3.48e-01             \n",
      "feature 7          numerical      25            3             False       0.6        1.04e-01             \n",
      "feature 8          numerical      25            3             False       0.6        8.57e-02   .         \n",
      "feature 9          numerical      25            3             False       0.6        3.14e-01             \n",
      "feature 10         numerical      25            3             False       0.6        2.41e-06   ***       \n",
      "feature 11         numerical      25            3             False       0.6        3.45e-05   ***       \n",
      "intercept                                                                            9.50e-01             \n",
      "==========================================================================================================\n",
      "Significance codes:  0 '***' 0.001 '**' 0.01 '*' 0.05 '.' 0.1 ' ' 1\n",
      "\n",
      "WARNING: Fitting splines and a linear function to a feature introduces a model identifiability problem\n",
      "         which can cause p-values to appear significant when they are not.\n",
      "\n",
      "WARNING: p-values calculated in this manner behave correctly for un-penalized models or models with\n",
      "         known smoothing parameters, but when smoothing parameters have been estimated, the p-values\n",
      "         are typically lower than they should be, meaning that the tests reject the null too readily.\n"
     ]
    }
   ],
   "source": [
    "fit_gam_1 = LogisticGAM().fit(Xtr1, ytr1)\n",
    "fit_gam_1.summary()"
   ]
  },
  {
   "cell_type": "markdown",
   "metadata": {},
   "source": [
    "Como se puede apreciar en el resumen anterior hay 4 variables que serían significativas, la 2, 5, 10 y 11, es decir:\n",
    "\n",
    "* **acidez volátil**\n",
    "* **cloruros**\n",
    "* **sulfatos**\n",
    "* **alcohol**"
   ]
  },
  {
   "cell_type": "code",
   "execution_count": 197,
   "metadata": {},
   "outputs": [],
   "source": [
    "ytr2, Xtr2 = patsy.dmatrices(\"\"\"Calidad ~  volatile_acidity + chlorides + sulphates + alcohol-1\"\"\",\n",
    "                           data = wine_train)\n",
    "\n",
    "yte2, Xte2 = patsy.dmatrices(\"\"\"Calidad ~ volatile_acidity + chlorides + sulphates + alcohol-1\"\"\",\n",
    "                           data = wine_test)"
   ]
  },
  {
   "cell_type": "code",
   "execution_count": 198,
   "metadata": {},
   "outputs": [
    {
     "name": "stdout",
     "output_type": "stream",
     "text": [
      "LogisticGAM                                                                                               \n",
      "=============================================== ==========================================================\n",
      "Distribution:                      BinomialDist Effective DoF:                                     42.5433\n",
      "Link Function:                        LogitLink Log Likelihood:                                  -370.9667\n",
      "Number of Samples:                          794 AIC:                                                827.02\n",
      "                                                AICc:                                              832.196\n",
      "                                                UBRE:                                               3.0845\n",
      "                                                Scale:                                                 1.0\n",
      "                                                Pseudo R-Squared:                                    0.321\n",
      "==========================================================================================================\n",
      "Feature Function   Data Type      Num Splines   Spline Order  Linear Fit  Lambda     P > x      Sig. Code \n",
      "================== ============== ============= ============= =========== ========== ========== ==========\n",
      "feature 1          numerical      25            3             False       0.6        1.01e-03   **        \n",
      "feature 2          numerical      25            3             False       0.6        5.83e-03   **        \n",
      "feature 3          numerical      25            3             False       0.6        1.90e-06   ***       \n",
      "feature 4          numerical      25            3             False       0.6        5.72e-12   ***       \n",
      "intercept                                                                            1.06e-01             \n",
      "==========================================================================================================\n",
      "Significance codes:  0 '***' 0.001 '**' 0.01 '*' 0.05 '.' 0.1 ' ' 1\n",
      "\n",
      "WARNING: Fitting splines and a linear function to a feature introduces a model identifiability problem\n",
      "         which can cause p-values to appear significant when they are not.\n",
      "\n",
      "WARNING: p-values calculated in this manner behave correctly for un-penalized models or models with\n",
      "         known smoothing parameters, but when smoothing parameters have been estimated, the p-values\n",
      "         are typically lower than they should be, meaning that the tests reject the null too readily.\n"
     ]
    }
   ],
   "source": [
    "fit_gam_2 = LogisticGAM().fit(Xtr2, ytr2)\n",
    "fit_gam_2.summary()"
   ]
  },
  {
   "cell_type": "code",
   "execution_count": 201,
   "metadata": {},
   "outputs": [],
   "source": [
    "preds_gam_1 = fit_gam_1.predict_proba(Xte1)\n",
    "roc_gam_1 = metrics.roc_curve(yte1, preds_gam_1)"
   ]
  },
  {
   "cell_type": "code",
   "execution_count": 207,
   "metadata": {},
   "outputs": [
    {
     "data": {
      "text/html": [
       "<div>\n",
       "<style scoped>\n",
       "    .dataframe tbody tr th:only-of-type {\n",
       "        vertical-align: middle;\n",
       "    }\n",
       "\n",
       "    .dataframe tbody tr th {\n",
       "        vertical-align: top;\n",
       "    }\n",
       "\n",
       "    .dataframe thead th {\n",
       "        text-align: right;\n",
       "    }\n",
       "</style>\n",
       "<table border=\"1\" class=\"dataframe\">\n",
       "  <thead>\n",
       "    <tr style=\"text-align: right;\">\n",
       "      <th></th>\n",
       "      <th>Punto de Corte</th>\n",
       "      <th>Accuracy</th>\n",
       "      <th>Precition</th>\n",
       "      <th>Recall</th>\n",
       "      <th>AUC</th>\n",
       "    </tr>\n",
       "  </thead>\n",
       "  <tbody>\n",
       "    <tr>\n",
       "      <th>Valor</th>\n",
       "      <td>0.5</td>\n",
       "      <td>0.747801</td>\n",
       "      <td>0.768293</td>\n",
       "      <td>0.724138</td>\n",
       "      <td>0.8106201390322805</td>\n",
       "    </tr>\n",
       "  </tbody>\n",
       "</table>\n",
       "</div>"
      ],
      "text/plain": [
       "       Punto de Corte  Accuracy  Precition    Recall                 AUC\n",
       "Valor             0.5  0.747801   0.768293  0.724138  0.8106201390322805"
      ]
     },
     "execution_count": 207,
     "metadata": {},
     "output_type": "execute_result"
    }
   ],
   "source": [
    "preds_val_gam1 = (preds_gam_1 >= umbral1) * 1\n",
    "Mgam1 = metrics.confusion_matrix(wine_test['Calidad'], preds_val_gam1)\n",
    "tng1, fpg1, fng1, tpg1 = Mgam1.ravel()\n",
    "Accug1 = (tng1+tpg1)/(tng1+fng1+tpg1+fpg1)\n",
    "Preg1 = tpg1/(tpg1+fpg1)\n",
    "Recallg1 = tpg1/(tpg1+fng1)\n",
    "AUCg1 = metrics.auc(roc_gam_1[0], roc_gam_1[1])\n",
    "metg1 = pd.DataFrame({'Accuracy': [Accug1], 'Precition': [Preg1],\n",
    "                        'Recall': [Recallg1], 'AUC': [AUCg1], 'Punto de Corte': [umbral1]}\n",
    "                       , index= ['Valor'],\n",
    "                      columns = ['Punto de Corte', 'Accuracy','Precition','Recall','AUC'])\n",
    "metg1"
   ]
  },
  {
   "cell_type": "code",
   "execution_count": 204,
   "metadata": {},
   "outputs": [
    {
     "data": {
      "image/png": "[encoded data removed]",
      "text/plain": [
       "<matplotlib.figure.Figure at 0x1e057a03390>"
      ]
     },
     "metadata": {},
     "output_type": "display_data"
    }
   ],
   "source": [
    "plt.plot(roc_gam_1[0], roc_gam_1[1], label = 'Logistic GAM Modelo 1', color = 'blue')\n",
    "plt.plot([0,1], [0,1], 'r--', color = 'red')\n",
    "plt.xlim([-0.01, 1.01])\n",
    "plt.ylim([0.0, 1.01])\n",
    "plt.xlabel('False Positive Rate')\n",
    "plt.ylabel('True Positive Rate')\n",
    "plt.title('Curva ROC Logistic GAM Modelo 1      (AUC = ' +str(np.round(metrics.auc(roc_gam_1[0], roc_gam_1[1]), 4))+')' )\n",
    "plt.legend(loc=\"lower right\")\n",
    "plt.show()"
   ]
  },
  {
   "cell_type": "code",
   "execution_count": 202,
   "metadata": {},
   "outputs": [],
   "source": [
    "preds_gam_2 = fit_gam_2.predict_proba(Xte2)\n",
    "roc_gam_2 = metrics.roc_curve(yte2, preds_gam_2)"
   ]
  },
  {
   "cell_type": "code",
   "execution_count": 208,
   "metadata": {},
   "outputs": [
    {
     "data": {
      "text/html": [
       "<div>\n",
       "<style scoped>\n",
       "    .dataframe tbody tr th:only-of-type {\n",
       "        vertical-align: middle;\n",
       "    }\n",
       "\n",
       "    .dataframe tbody tr th {\n",
       "        vertical-align: top;\n",
       "    }\n",
       "\n",
       "    .dataframe thead th {\n",
       "        text-align: right;\n",
       "    }\n",
       "</style>\n",
       "<table border=\"1\" class=\"dataframe\">\n",
       "  <thead>\n",
       "    <tr style=\"text-align: right;\">\n",
       "      <th></th>\n",
       "      <th>Punto de Corte</th>\n",
       "      <th>Accuracy</th>\n",
       "      <th>Precition</th>\n",
       "      <th>Recall</th>\n",
       "      <th>AUC</th>\n",
       "    </tr>\n",
       "  </thead>\n",
       "  <tbody>\n",
       "    <tr>\n",
       "      <th>Valor</th>\n",
       "      <td>0.5</td>\n",
       "      <td>0.739003</td>\n",
       "      <td>0.73743</td>\n",
       "      <td>0.758621</td>\n",
       "      <td>0.8286874526808451</td>\n",
       "    </tr>\n",
       "  </tbody>\n",
       "</table>\n",
       "</div>"
      ],
      "text/plain": [
       "       Punto de Corte  Accuracy  Precition    Recall                 AUC\n",
       "Valor             0.5  0.739003    0.73743  0.758621  0.8286874526808451"
      ]
     },
     "execution_count": 208,
     "metadata": {},
     "output_type": "execute_result"
    }
   ],
   "source": [
    "preds_val_gam2 = (preds_gam_2 >= umbral1) * 1\n",
    "Mgam2 = metrics.confusion_matrix(wine_test['Calidad'], preds_val_gam2)\n",
    "tng2, fpg2, fng2, tpg2 = Mgam2.ravel()\n",
    "Accug2 = (tng2+tpg2)/(tng2+fng2+tpg2+fpg2)\n",
    "Preg2 = tpg2/(tpg2+fpg2)\n",
    "Recallg2 = tpg2/(tpg2+fng2)\n",
    "AUCg2 = metrics.auc(roc_gam_2[0], roc_gam_2[1])\n",
    "metg2 = pd.DataFrame({'Accuracy': [Accug2], 'Precition': [Preg2],\n",
    "                        'Recall': [Recallg2], 'AUC': [AUCg2], 'Punto de Corte': [umbral1]}\n",
    "                       , index= ['Valor'],\n",
    "                      columns = ['Punto de Corte', 'Accuracy','Precition','Recall','AUC'])\n",
    "metg2"
   ]
  },
  {
   "cell_type": "code",
   "execution_count": 206,
   "metadata": {},
   "outputs": [
    {
     "data": {
      "image/png": "[encoded data removed]",
      "text/plain": [
       "<matplotlib.figure.Figure at 0x1e0597f7438>"
      ]
     },
     "metadata": {},
     "output_type": "display_data"
    }
   ],
   "source": [
    "plt.plot(roc_gam_2[0], roc_gam_2[1], label = 'Logistic GAM Modelo 2', color = 'blue')\n",
    "plt.plot([0,1], [0,1], 'r--', color = 'red')\n",
    "plt.xlim([-0.01, 1.01])\n",
    "plt.ylim([0.0, 1.01])\n",
    "plt.xlabel('False Positive Rate')\n",
    "plt.ylabel('True Positive Rate')\n",
    "plt.title('Curva ROC Logistic GAM Modelo 2      (AUC = ' +str(np.round(metrics.auc(roc_gam_2[0], roc_gam_2[1]), 4))+')' )\n",
    "plt.legend(loc=\"lower right\")\n",
    "plt.show()"
   ]
  },
  {
   "cell_type": "markdown",
   "metadata": {},
   "source": [
    "### 4) SVM"
   ]
  },
  {
   "cell_type": "code",
   "execution_count": 227,
   "metadata": {},
   "outputs": [],
   "source": [
    "scaler = StandardScaler()\n",
    "scaler = scaler.fit(Xtr1)\n",
    "Xtr_s = scaler.transform(Xtr1)\n",
    "Xte_s = scaler.transform(Xte1)"
   ]
  },
  {
   "cell_type": "code",
   "execution_count": 228,
   "metadata": {},
   "outputs": [],
   "source": [
    "my_svm_1 = SVC(C = 1, kernel = 'poly', probability = True)\n",
    "my_svm_1 = my_svm_1.fit(Xtr_s, np.ravel(ytr1))\n",
    "preds_svm_1 = my_svm_1.predict_proba(Xte_s)"
   ]
  },
  {
   "cell_type": "code",
   "execution_count": 229,
   "metadata": {},
   "outputs": [],
   "source": [
    "roc_svm_1 = metrics.roc_curve(yte1, preds_svm_1[:, 1])"
   ]
  },
  {
   "cell_type": "code",
   "execution_count": 230,
   "metadata": {},
   "outputs": [
    {
     "data": {
      "text/html": [
       "<div>\n",
       "<style scoped>\n",
       "    .dataframe tbody tr th:only-of-type {\n",
       "        vertical-align: middle;\n",
       "    }\n",
       "\n",
       "    .dataframe tbody tr th {\n",
       "        vertical-align: top;\n",
       "    }\n",
       "\n",
       "    .dataframe thead th {\n",
       "        text-align: right;\n",
       "    }\n",
       "</style>\n",
       "<table border=\"1\" class=\"dataframe\">\n",
       "  <thead>\n",
       "    <tr style=\"text-align: right;\">\n",
       "      <th></th>\n",
       "      <th>Punto de Corte</th>\n",
       "      <th>Accuracy</th>\n",
       "      <th>Precition</th>\n",
       "      <th>Recall</th>\n",
       "      <th>AUC</th>\n",
       "    </tr>\n",
       "  </thead>\n",
       "  <tbody>\n",
       "    <tr>\n",
       "      <th>Valor</th>\n",
       "      <td>0.5</td>\n",
       "      <td>0.692082</td>\n",
       "      <td>0.68254</td>\n",
       "      <td>0.741379</td>\n",
       "      <td>0.7927076880721315</td>\n",
       "    </tr>\n",
       "  </tbody>\n",
       "</table>\n",
       "</div>"
      ],
      "text/plain": [
       "       Punto de Corte  Accuracy  Precition    Recall                 AUC\n",
       "Valor             0.5  0.692082    0.68254  0.741379  0.7927076880721315"
      ]
     },
     "execution_count": 230,
     "metadata": {},
     "output_type": "execute_result"
    }
   ],
   "source": [
    "preds_val_svm1 = (preds_svm_1[:,1] >= umbral1) * 1\n",
    "Msvm1 = metrics.confusion_matrix(wine_test['Calidad'], preds_val_svm1)\n",
    "tns1, fps1, fns1, tps1 = Msvm1.ravel()\n",
    "Accus1 = (tns1+tps1)/(tns1+fns1+tps1+fps1)\n",
    "Pres1 = tps1/(tps1+fps1)\n",
    "Recalls1 = tps1/(tps1+fns1)\n",
    "AUCs1 = metrics.auc(roc_svm_1[0], roc_svm_1[1])\n",
    "mets1 = pd.DataFrame({'Accuracy': [Accus1], 'Precition': [Pres1],\n",
    "                        'Recall': [Recalls1], 'AUC': [AUCs1], 'Punto de Corte': [umbral1]}\n",
    "                       , index= ['Valor'],\n",
    "                      columns = ['Punto de Corte', 'Accuracy','Precition','Recall','AUC'])\n",
    "mets1"
   ]
  },
  {
   "cell_type": "code",
   "execution_count": 231,
   "metadata": {},
   "outputs": [
    {
     "data": {
      "image/png": "[encoded data removed]",
      "text/plain": [
       "<matplotlib.figure.Figure at 0x1e0598ef240>"
      ]
     },
     "metadata": {},
     "output_type": "display_data"
    }
   ],
   "source": [
    "plt.plot(roc_svm_1[0], roc_svm_1[1], label = 'SVM Modelo 1', color = 'blue')\n",
    "plt.plot([0,1], [0,1], 'r--', color = 'red')\n",
    "plt.xlim([-0.01, 1.01])\n",
    "plt.ylim([0.0, 1.01])\n",
    "plt.xlabel('False Positive Rate')\n",
    "plt.ylabel('True Positive Rate')\n",
    "plt.title('Curva ROC SVM Modelo 1      (AUC = ' +str(np.round(metrics.auc(roc_svm_1[0], roc_svm_1[1]), 4))+')' )\n",
    "plt.legend(loc=\"lower right\")\n",
    "plt.show()"
   ]
  },
  {
   "cell_type": "markdown",
   "metadata": {},
   "source": [
    "# AJUSTAR OTRO MODELO PERO CON LAS VARIABLES QUE HAN SALIDO SIGNIFICATIVAS"
   ]
  },
  {
   "cell_type": "markdown",
   "metadata": {},
   "source": [
    "### 5) Naive Bayes"
   ]
  },
  {
   "cell_type": "code",
   "execution_count": 234,
   "metadata": {},
   "outputs": [],
   "source": [
    "fit_nb_1 = GaussianNB()\n",
    "fit_nb_1 = fit_nb_1.fit(Xtr1,np.ravel(ytr1))\n",
    "preds_nb_1 = fit_nb_1.predict_proba(Xte1)"
   ]
  },
  {
   "cell_type": "code",
   "execution_count": 239,
   "metadata": {},
   "outputs": [],
   "source": [
    "roc_nb_1 = metrics.roc_curve(yte1, preds_nb_1[:, 1])"
   ]
  },
  {
   "cell_type": "code",
   "execution_count": 240,
   "metadata": {},
   "outputs": [
    {
     "data": {
      "text/html": [
       "<div>\n",
       "<style scoped>\n",
       "    .dataframe tbody tr th:only-of-type {\n",
       "        vertical-align: middle;\n",
       "    }\n",
       "\n",
       "    .dataframe tbody tr th {\n",
       "        vertical-align: top;\n",
       "    }\n",
       "\n",
       "    .dataframe thead th {\n",
       "        text-align: right;\n",
       "    }\n",
       "</style>\n",
       "<table border=\"1\" class=\"dataframe\">\n",
       "  <thead>\n",
       "    <tr style=\"text-align: right;\">\n",
       "      <th></th>\n",
       "      <th>Punto de Corte</th>\n",
       "      <th>Accuracy</th>\n",
       "      <th>Precition</th>\n",
       "      <th>Recall</th>\n",
       "      <th>AUC</th>\n",
       "    </tr>\n",
       "  </thead>\n",
       "  <tbody>\n",
       "    <tr>\n",
       "      <th>Valor</th>\n",
       "      <td>0.5</td>\n",
       "      <td>0.727273</td>\n",
       "      <td>0.771812</td>\n",
       "      <td>0.66092</td>\n",
       "      <td>0.8054580494184045</td>\n",
       "    </tr>\n",
       "  </tbody>\n",
       "</table>\n",
       "</div>"
      ],
      "text/plain": [
       "       Punto de Corte  Accuracy  Precition   Recall                 AUC\n",
       "Valor             0.5  0.727273   0.771812  0.66092  0.8054580494184045"
      ]
     },
     "execution_count": 240,
     "metadata": {},
     "output_type": "execute_result"
    }
   ],
   "source": [
    "preds_val_nb1 = (preds_nb_1[:,1] >= umbral1) * 1\n",
    "Mnb1 = metrics.confusion_matrix(wine_test['Calidad'], preds_val_nb1)\n",
    "tnn1, fpn1, fnn1, tpn1 = Mnb1.ravel()\n",
    "Accun1 = (tnn1+tpn1)/(tnn1+fnn1+tpn1+fpn1)\n",
    "Pren1 = tpn1/(tpn1+fpn1)\n",
    "Recalln1 = tpn1/(tpn1+fnn1)\n",
    "AUCn1 = metrics.auc(roc_nb_1[0], roc_nb_1[1])\n",
    "metn1 = pd.DataFrame({'Accuracy': [Accun1], 'Precition': [Pren1],\n",
    "                        'Recall': [Recalln1], 'AUC': [AUCn1], 'Punto de Corte': [umbral1]}\n",
    "                       , index= ['Valor'],\n",
    "                      columns = ['Punto de Corte', 'Accuracy','Precition','Recall','AUC'])\n",
    "metn1"
   ]
  },
  {
   "cell_type": "code",
   "execution_count": 241,
   "metadata": {},
   "outputs": [
    {
     "data": {
      "image/png": "[encoded data removed]",
      "text/plain": [
       "<matplotlib.figure.Figure at 0x1e0598cd4a8>"
      ]
     },
     "metadata": {},
     "output_type": "display_data"
    }
   ],
   "source": [
    "plt.plot(roc_nb_1[0], roc_nb_1[1], label = 'Naive Bayes Modelo 1', color = 'blue')\n",
    "plt.plot([0,1], [0,1], 'r--', color = 'red')\n",
    "plt.xlim([-0.01, 1.01])\n",
    "plt.ylim([0.0, 1.01])\n",
    "plt.xlabel('False Positive Rate')\n",
    "plt.ylabel('True Positive Rate')\n",
    "plt.title('Curva ROC Naive Bayes Modelo 1       (AUC = ' +str(np.round(metrics.auc(roc_nb_1[0], roc_nb_1[1]), 4))+')' )\n",
    "plt.legend(loc=\"lower right\")\n",
    "plt.show()"
   ]
  },
  {
   "cell_type": "markdown",
   "metadata": {},
   "source": [
    "# AJUSTAR OTRO MODELO PERO CON LAS VARIABLES QUE HAN SALIDO SIGNIFICATIVAS\n"
   ]
  },
  {
   "cell_type": "markdown",
   "metadata": {},
   "source": [
    "## Modelos Predictivos"
   ]
  },
  {
   "cell_type": "markdown",
   "metadata": {},
   "source": [
    "## Componentes Principales"
   ]
  },
  {
   "cell_type": "markdown",
   "metadata": {},
   "source": [
    "Escalamos las variables para poder aplicar componentes principales y escoger aquellas que expliquen una gran cantidad de variabilidad, reduciendo la dimensionalidad"
   ]
  },
  {
   "cell_type": "code",
   "execution_count": 47,
   "metadata": {},
   "outputs": [],
   "source": [
    "ytr, Xtr = patsy.dmatrices(\"\"\"Calidad ~ fixed_acidity + volatile_acidity + citric_acid + residual_sugar +\n",
    "                            chlorides + free_sulfur_dioxide + total_sulfur_dioxide + density + pH + sulphates + alcohol \"\"\",\n",
    "                           data = wine_train)\n",
    "\n",
    "yte, Xte = patsy.dmatrices(\"\"\"Calidad ~ fixed_acidity + volatile_acidity + citric_acid + residual_sugar +\n",
    "                            chlorides + free_sulfur_dioxide + total_sulfur_dioxide + density + pH + sulphates + alcohol \"\"\",\n",
    "                           data = wine_test)"
   ]
  },
  {
   "cell_type": "code",
   "execution_count": 48,
   "metadata": {},
   "outputs": [],
   "source": [
    "scaler = StandardScaler()\n",
    "scaler.fit(Xtr)\n",
    "\n",
    "Xtr_scal = scaler.transform(Xtr)\n",
    "Xte_scal = scaler.transform(Xte)"
   ]
  },
  {
   "cell_type": "code",
   "execution_count": 49,
   "metadata": {},
   "outputs": [
    {
     "data": {
      "text/plain": [
       "9"
      ]
     },
     "execution_count": 49,
     "metadata": {},
     "output_type": "execute_result"
    }
   ],
   "source": [
    "pca = PCA(.95)\n",
    "pca.fit(Xtr_scal, ytr)\n",
    "pca.n_components_"
   ]
  },
  {
   "cell_type": "code",
   "execution_count": 50,
   "metadata": {},
   "outputs": [],
   "source": [
    "Xtr = pca.transform(Xtr_scal)\n",
    "Xte = pca.transform(Xte_scal)"
   ]
  },
  {
   "cell_type": "markdown",
   "metadata": {},
   "source": [
    "## Ajuste de Modelos"
   ]
  },
  {
   "cell_type": "markdown",
   "metadata": {},
   "source": [
    "### 1) Regresión Logística"
   ]
  },
  {
   "cell_type": "code",
   "execution_count": 51,
   "metadata": {},
   "outputs": [],
   "source": [
    "from sklearn.linear_model import LogisticRegression\n",
    "\n",
    "logreg = LogisticRegression()\n",
    "mod = logreg.fit(Xtr, np.ravel(ytr))"
   ]
  },
  {
   "cell_type": "code",
   "execution_count": 52,
   "metadata": {},
   "outputs": [],
   "source": [
    "pred_lr = (logreg.predict_proba(Xte)[:,1]>0.5)*1\n",
    "matriz_confusion = metrics.confusion_matrix(yte, pred_lr)"
   ]
  },
  {
   "cell_type": "code",
   "execution_count": 165,
   "metadata": {},
   "outputs": [
    {
     "name": "stdout",
     "output_type": "stream",
     "text": [
      "0.735632183908046 0.24550898203592814\n"
     ]
    }
   ],
   "source": [
    "#Tasa de verdaderos positivos y falsos positivos\n",
    "tn, fp, fn, tp = matriz_confusion.ravel()\n",
    "tpr = tp/(tp + fn)\n",
    "fpr = fp/(fp + tn)\n",
    "print(tpr, fpr)"
   ]
  },
  {
   "cell_type": "code",
   "execution_count": 166,
   "metadata": {},
   "outputs": [
    {
     "data": {
      "text/plain": [
       "0.7450616009360589"
      ]
     },
     "execution_count": 166,
     "metadata": {},
     "output_type": "execute_result"
    }
   ],
   "source": [
    "#AUC\n",
    "roc = metrics.roc_curve(yte, pred_lr)\n",
    "metrics.auc(roc[0], roc[1])"
   ]
  },
  {
   "cell_type": "code",
   "execution_count": 200,
   "metadata": {},
   "outputs": [
    {
     "data": {
      "image/png": "[encoded data removed]",
      "text/plain": [
       "<matplotlib.figure.Figure at 0x1de6f2fbba8>"
      ]
     },
     "metadata": {},
     "output_type": "display_data"
    }
   ],
   "source": [
    "fpr, tpr, umbral = roc_curve(yte, logreg.predict_proba(Xte)[:,1])\n",
    "plt.figure()\n",
    "plt.plot(fpr, tpr, label='Regresión Logística', color = 'blue')\n",
    "plt.plot([0, 1], [0, 1],'r--', color = 'red')\n",
    "plt.xlim([-0.01, 1.01])\n",
    "plt.ylim([0.0, 1.01])\n",
    "plt.xlabel('False Positive Rate')\n",
    "plt.ylabel('True Positive Rate')\n",
    "plt.title('Curva ROC Regresión Logística      (AUC = ' +str(np.round(metrics.auc(roc[0], roc[1]), 4))+')' )\n",
    "plt.legend(loc=\"lower right\")\n",
    "plt.show()"
   ]
  },
  {
   "cell_type": "markdown",
   "metadata": {},
   "source": [
    "### 2) Random Forest"
   ]
  },
  {
   "cell_type": "code",
   "execution_count": 174,
   "metadata": {},
   "outputs": [],
   "source": [
    "rf = RandomForestClassifier(n_estimators = 200)\n",
    "rffit = rf.fit(Xtr, np.ravel(ytr))\n",
    "preds_prob = rffit.predict_proba(Xte)\n",
    "preds_rf = (preds_prob[:,1]>0.5)*1"
   ]
  },
  {
   "cell_type": "code",
   "execution_count": 175,
   "metadata": {},
   "outputs": [
    {
     "data": {
      "text/plain": [
       "array([[121,  46],\n",
       "       [ 27, 147]], dtype=int64)"
      ]
     },
     "execution_count": 175,
     "metadata": {},
     "output_type": "execute_result"
    }
   ],
   "source": [
    "metrics.confusion_matrix(yte, preds_rf)"
   ]
  },
  {
   "cell_type": "code",
   "execution_count": 177,
   "metadata": {},
   "outputs": [],
   "source": [
    "rocrf = metrics.roc_curve(yte, preds_prob[:, 1])"
   ]
  },
  {
   "cell_type": "code",
   "execution_count": 181,
   "metadata": {},
   "outputs": [
    {
     "name": "stdout",
     "output_type": "stream",
     "text": [
      "0.8858661986372083\n"
     ]
    }
   ],
   "source": [
    "print(metrics.auc(rocrf[0], rocrf[1]))"
   ]
  },
  {
   "cell_type": "code",
   "execution_count": 182,
   "metadata": {},
   "outputs": [
    {
     "data": {
      "text/plain": [
       "array([0.08771543, 0.24592594, 0.12125202, 0.10200666, 0.07204296,\n",
       "       0.08062784, 0.11772052, 0.07283788, 0.09987075])"
      ]
     },
     "execution_count": 182,
     "metadata": {},
     "output_type": "execute_result"
    }
   ],
   "source": [
    "rf.feature_importances_"
   ]
  },
  {
   "cell_type": "code",
   "execution_count": 199,
   "metadata": {
    "scrolled": false
   },
   "outputs": [
    {
     "data": {
      "image/png": "[encoded data removed]",
      "text/plain": [
       "<matplotlib.figure.Figure at 0x1de6fcf22e8>"
      ]
     },
     "metadata": {},
     "output_type": "display_data"
    }
   ],
   "source": [
    "plt.plot(rocrf[0], rocrf[1], label = 'Random Forest', color = 'blue')\n",
    "plt.plot([0,1], [0,1], 'r--', color = 'red')\n",
    "plt.xlim([-0.01, 1.01])\n",
    "plt.ylim([0.0, 1.01])\n",
    "plt.xlabel('False Positive Rate')\n",
    "plt.ylabel('True Positive Rate')\n",
    "plt.title('Curva ROC Random Forest       (AUC = ' +str(np.round(metrics.auc(rocrf[0], rocrf[1]), 4))+')' )\n",
    "plt.legend(loc=\"lower right\")\n",
    "plt.show()"
   ]
  },
  {
   "cell_type": "markdown",
   "metadata": {},
   "source": [
    "### 3) Logistic GAM"
   ]
  },
  {
   "cell_type": "code",
   "execution_count": 183,
   "metadata": {},
   "outputs": [
    {
     "name": "stdout",
     "output_type": "stream",
     "text": [
      "LogisticGAM                                                                                               \n",
      "=============================================== ==========================================================\n",
      "Distribution:                      BinomialDist Effective DoF:                                     87.7071\n",
      "Link Function:                        LogitLink Log Likelihood:                                  -334.3772\n",
      "Number of Samples:                          794 AIC:                                              844.1687\n",
      "                                                AICc:                                             866.7663\n",
      "                                                UBRE:                                               3.1516\n",
      "                                                Scale:                                                 1.0\n",
      "                                                Pseudo R-Squared:                                   0.3879\n",
      "==========================================================================================================\n",
      "Feature Function   Data Type      Num Splines   Spline Order  Linear Fit  Lambda     P > x      Sig. Code \n",
      "================== ============== ============= ============= =========== ========== ========== ==========\n",
      "feature 1          numerical      25            3             False       0.6        1.36e-01             \n",
      "feature 2          numerical      25            3             False       0.6        0.00e+00   ***       \n",
      "feature 3          numerical      25            3             False       0.6        1.15e-07   ***       \n",
      "feature 4          numerical      25            3             False       0.6        4.43e-01             \n",
      "feature 5          numerical      25            3             False       0.6        6.48e-01             \n",
      "feature 6          numerical      25            3             False       0.6        2.50e-02   *         \n",
      "feature 7          numerical      25            3             False       0.6        4.37e-06   ***       \n",
      "feature 8          numerical      25            3             False       0.6        6.96e-02   .         \n",
      "feature 9          numerical      25            3             False       0.6        2.69e-01             \n",
      "intercept                                                                            2.82e-02   *         \n",
      "==========================================================================================================\n",
      "Significance codes:  0 '***' 0.001 '**' 0.01 '*' 0.05 '.' 0.1 ' ' 1\n",
      "\n",
      "WARNING: Fitting splines and a linear function to a feature introduces a model identifiability problem\n",
      "         which can cause p-values to appear significant when they are not.\n",
      "\n",
      "WARNING: p-values calculated in this manner behave correctly for un-penalized models or models with\n",
      "         known smoothing parameters, but when smoothing parameters have been estimated, the p-values\n",
      "         are typically lower than they should be, meaning that the tests reject the null too readily.\n"
     ]
    }
   ],
   "source": [
    "gam = LogisticGAM().fit(Xtr, ytr)\n",
    "gam.summary()"
   ]
  },
  {
   "cell_type": "code",
   "execution_count": 184,
   "metadata": {},
   "outputs": [
    {
     "name": "stdout",
     "output_type": "stream",
     "text": [
      "0.8335742308486476\n"
     ]
    }
   ],
   "source": [
    "preds_gam = gam.predict_proba(Xte)\n",
    "roc_gam = metrics.roc_curve(yte, preds_gam)\n",
    "print(metrics.auc(roc_gam[0], roc_gam[1]))"
   ]
  },
  {
   "cell_type": "code",
   "execution_count": 185,
   "metadata": {},
   "outputs": [],
   "source": [
    "pred_gam = (gam.predict(Xte)*1)"
   ]
  },
  {
   "cell_type": "code",
   "execution_count": 198,
   "metadata": {},
   "outputs": [
    {
     "data": {
      "image/png": "[encoded data removed]",
      "text/plain": [
       "<matplotlib.figure.Figure at 0x1de710edbe0>"
      ]
     },
     "metadata": {},
     "output_type": "display_data"
    }
   ],
   "source": [
    "plt.plot(roc_gam[0], roc_gam[1], label = 'Logistic GAM', color = 'blue')\n",
    "plt.plot([0,1], [0,1], 'r--', color = 'red')\n",
    "plt.xlim([-0.01, 1.01])\n",
    "plt.ylim([0.0, 1.01])\n",
    "plt.xlabel('False Positive Rate')\n",
    "plt.ylabel('True Positive Rate')\n",
    "plt.title('Curva ROC Logistic GAM       (AUC = ' +str(np.round(metrics.auc(roc_gam[0], roc_gam[1]), 4))+')' )\n",
    "plt.legend(loc=\"lower right\")\n",
    "plt.show()"
   ]
  },
  {
   "cell_type": "markdown",
   "metadata": {},
   "source": [
    "### 4) SVM"
   ]
  },
  {
   "cell_type": "code",
   "execution_count": 188,
   "metadata": {},
   "outputs": [],
   "source": [
    "from sklearn.svm import SVC\n",
    "my_svm = SVC(C = 1, kernel = 'poly', probability = True)\n",
    "my_svm = my_svm.fit(Xtr, np.ravel(ytr))\n",
    "preds_svm = my_svm.predict_proba(Xte)"
   ]
  },
  {
   "cell_type": "code",
   "execution_count": 194,
   "metadata": {},
   "outputs": [
    {
     "name": "stdout",
     "output_type": "stream",
     "text": [
      "0.7865303875008605\n"
     ]
    }
   ],
   "source": [
    "roc_svm = metrics.roc_curve(yte, preds_svm[:, 1])\n",
    "print(metrics.auc(roc_svm[0], roc_svm[1]))"
   ]
  },
  {
   "cell_type": "code",
   "execution_count": 206,
   "metadata": {},
   "outputs": [
    {
     "data": {
      "image/png": "[encoded data removed]",
      "text/plain": [
       "<matplotlib.figure.Figure at 0x1de6f0099e8>"
      ]
     },
     "metadata": {},
     "output_type": "display_data"
    }
   ],
   "source": [
    "plt.plot(roc_svm[0], roc_svm[1], label = 'SVM', color = 'blue')\n",
    "plt.plot([0,1], [0,1], 'r--', color = 'red')\n",
    "plt.xlim([-0.01, 1.01])\n",
    "plt.ylim([0.0, 1.01])\n",
    "plt.xlabel('False Positive Rate')\n",
    "plt.ylabel('True Positive Rate')\n",
    "plt.title('Curva ROC SVM       (AUC = ' +str(np.round(metrics.auc(roc_svm[0], roc_svm[1]), 4))+')' )\n",
    "plt.legend(loc=\"lower right\")\n",
    "plt.show()"
   ]
  },
  {
   "cell_type": "markdown",
   "metadata": {},
   "source": [
    "### 5) Naive Bayes"
   ]
  },
  {
   "cell_type": "code",
   "execution_count": 203,
   "metadata": {},
   "outputs": [],
   "source": [
    "from sklearn.naive_bayes import GaussianNB\n",
    "\n",
    "nb = GaussianNB()\n",
    "nb = nb.fit(Xtr,np.ravel(ytr))\n",
    "preds_nb = nb.predict_proba(Xte)\n"
   ]
  },
  {
   "cell_type": "code",
   "execution_count": 205,
   "metadata": {},
   "outputs": [
    {
     "name": "stdout",
     "output_type": "stream",
     "text": [
      "0.7943423497831922\n"
     ]
    }
   ],
   "source": [
    "roc_nb = metrics.roc_curve(yte, preds_nb[:, 1])\n",
    "print(metrics.auc(roc_nb[0], roc_nb[1]))"
   ]
  },
  {
   "cell_type": "code",
   "execution_count": 207,
   "metadata": {},
   "outputs": [
    {
     "data": {
      "image/png": "[encoded data removed]",
      "text/plain": [
       "<matplotlib.figure.Figure at 0x1de6fb8a3c8>"
      ]
     },
     "metadata": {},
     "output_type": "display_data"
    }
   ],
   "source": [
    "plt.plot(roc_nb[0], roc_nb[1], label = 'Naive Bayes', color = 'blue')\n",
    "plt.plot([0,1], [0,1], 'r--', color = 'red')\n",
    "plt.xlim([-0.01, 1.01])\n",
    "plt.ylim([0.0, 1.01])\n",
    "plt.xlabel('False Positive Rate')\n",
    "plt.ylabel('True Positive Rate')\n",
    "plt.title('Curva ROC Naive Bayes       (AUC = ' +str(np.round(metrics.auc(roc_nb[0], roc_nb[1]), 4))+')' )\n",
    "plt.legend(loc=\"lower right\")\n",
    "plt.show()"
   ]
  },
  {
   "cell_type": "code",
   "execution_count": null,
   "metadata": {},
   "outputs": [],
   "source": []
  },
  {
   "cell_type": "code",
   "execution_count": null,
   "metadata": {},
   "outputs": [],
   "source": []
  },
  {
   "cell_type": "code",
   "execution_count": null,
   "metadata": {},
   "outputs": [],
   "source": []
  }
 ],
 "metadata": {
  "kernelspec": {
   "display_name": "Python 3",
   "language": "python",
   "name": "python3"
  },
  "language_info": {
   "codemirror_mode": {
    "name": "ipython",
    "version": 3
   },
   "file_extension": ".py",
   "mimetype": "text/x-python",
   "name": "python",
   "nbconvert_exporter": "python",
   "pygments_lexer": "ipython3",
   "version": "3.6.4"
  }
 },
 "nbformat": 4,
 "nbformat_minor": 2
}
